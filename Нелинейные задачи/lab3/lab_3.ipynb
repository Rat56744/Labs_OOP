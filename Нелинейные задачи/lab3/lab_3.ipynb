{
 "cells": [
  {
   "cell_type": "markdown",
   "metadata": {},
   "source": [
    "8.4\n",
    "$$Q_N(\\lambda) = \\large \\int_{0}^{\\infty} \\frac{t \\cdot e^{-\\lambda t}}{\\sqrt{1+t^2}} \\, dt$$\n",
    "$"
   ]
  },
  {
   "cell_type": "code",
   "execution_count": 2,
   "metadata": {},
   "outputs": [
    {
     "name": "stdout",
     "output_type": "stream",
     "text": [
      "Результат суммы при N=5 и λ=2: 0.765625\n"
     ]
    }
   ],
   "source": [
    "import numpy as np\n",
    "import sympy as sp\n",
    "from sympy import symbols, diff, lambdify\n",
    "\n",
    "def calculate_sum(N, lam):\n",
    "    # Создаем символическую переменную\n",
    "    t = symbols('t')\n",
    "    \n",
    "    # Определяем функцию\n",
    "    f = t / sp.sqrt(1 + t**2)\n",
    "    \n",
    "    # Инициализируем сумму\n",
    "    result = 0\n",
    "    \n",
    "    # Вычисляем сумму\n",
    "    for k in range(N + 1):\n",
    "        # Вычисляем k-ю производную\n",
    "        k_derivative = diff(f, t, k)\n",
    "        \n",
    "        # Вычисляем значение производной в точке t=0\n",
    "        derivative_at_0 = k_derivative.subs(t, 0)\n",
    "        \n",
    "        # Преобразуем выражение в функцию для вычисления\n",
    "        derivative_func = lambdify(t, derivative_at_0)\n",
    "        \n",
    "        # Вычисляем значение\n",
    "        term = derivative_func(0) / (lam**(k + 1))\n",
    "        \n",
    "        # Добавляем к сумме\n",
    "        result += term\n",
    "    \n",
    "    return result\n",
    "\n",
    "# Пример использования:\n",
    "N = 5  # степень суммирования\n",
    "lam = 2  # значение лямбда\n",
    "\n",
    "result = calculate_sum(N, lam)\n",
    "print(f\"Результат суммы при N={N} и λ={lam}: {result}\")"
   ]
  }
 ],
 "metadata": {
  "kernelspec": {
   "display_name": "usr",
   "language": "python",
   "name": "python3"
  },
  "language_info": {
   "codemirror_mode": {
    "name": "ipython",
    "version": 3
   },
   "file_extension": ".py",
   "mimetype": "text/x-python",
   "name": "python",
   "nbconvert_exporter": "python",
   "pygments_lexer": "ipython3",
   "version": "3.12.3"
  }
 },
 "nbformat": 4,
 "nbformat_minor": 2
}
