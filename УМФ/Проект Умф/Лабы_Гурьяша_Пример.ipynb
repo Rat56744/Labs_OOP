{
 "cells": [
  {
   "cell_type": "markdown",
   "id": "00c4b555",
   "metadata": {},
   "source": [
    "# Лабораторная работа по предмету \"Уравнения математической физики\"\n",
    "\n",
    "**Выполнил**: Давыдов Себастьян Ибрагимович (ПМ-31) (sebastian@mail.ru)\n",
    "\n",
    "**Преподаватель**: Гурьянов М.А., кафедра ВМ-1\n",
    "\n",
    "###### Вариант индивидуальной задачи № 28\n",
    "\n",
    "###### 2 семестр, 2021 год\n",
    "\n",
    "###### МИЭТ, Зеленоград\n",
    "\n",
    "> Если отчет оформляется в Markdown или Jupyter notebook, то такого вступления достаточно. Если отчет выполняется в MS Word или OpenOffice то обязательно использовать стандартный для МИЭТ титульный лист. Титульный лист содержит ту же самую информацию, но с форматированием на странице размера А4.\n",
    ">\n",
    "> Для электронного документа (Jupyter \\ MD \\ Latex):\n",
    ">\n",
    "> * Обязательно указание электронной почты\n",
    "> * Выкладывается в Google Drive или Яндекс.Драйв в общую папку по решению преподавателя. \n",
    "> * Папка должна содержать: Сам файл отчета, его версию в PDF, папку с программой (скриптами) и отдельно папку со всеми картинками\n",
    "> * При сдаче по эл.почте отправляется ZIP архив внутри которого такая же структура файлов.\n",
    "> * Все изображения вставляются относительными путями (проверьте настройки своего редактора)\n",
    "> * Весь код должен быть оформлен в соответствующих секциях (не забывайте указывать язык программирования чтобы синтаксис был подсвечен)"
   ]
  },
  {
   "cell_type": "code",
   "execution_count": 2,
   "id": "577d2079",
   "metadata": {},
   "outputs": [],
   "source": [
    "#Backed rendering for animated plots, \n",
    "# INLINE is the default for static images, \n",
    "# WIDGETS is the good option for the Jupyter lab\n",
    "# QT5 works best in VS CODE\n"
   ]
  },
  {
   "cell_type": "code",
   "execution_count": 2,
   "id": "2425bf27",
   "metadata": {},
   "outputs": [
    {
     "data": {
      "image/png": "[encoded data removed]",
      "text/plain": [
       "<Figure size 640x480 with 1 Axes>"
      ]
     },
     "metadata": {},
     "output_type": "display_data"
    }
   ],
   "source": [
    "\n",
    "\n",
    "\n",
    "import numpy as np\n",
    "import matplotlib.pyplot as plt\n",
    "import math\n",
    "import matplotlib.animation as animation\n",
    "\n",
    "\n",
    "fig = plt.figure()\n",
    "\n",
    "def animated_sinc(frame_number):\n",
    "    x = np.linspace(0,3*math.pi,100)\n",
    "    y = np.sin(x + frame_number*math.pi/30)\n",
    "    line, = plt.plot(x,y,'r-')\n",
    "    return line,\n",
    "\n",
    "sine_animation = animation.FuncAnimation(fig,animated_sinc, frames = 300, blit = True)\n",
    "plt.show()"
   ]
  },
  {
   "cell_type": "markdown",
   "id": "71f0fc95",
   "metadata": {},
   "source": [
    "### 1. Постановка задачи (2 лабораторная работа)\n",
    "\n",
    "> В этом разделе необходимо словами максимально подробно описать поставленную задачу. Первая часть - то как задачу вам выдал преподаватель, Ctrl +C =>Ctrl+V\n",
    "\n",
    "Процесс свободного колебания струны длины L. Левый конец закреплен, правый висит в воздухе. В начальный момент времени изгиб струны можно описать формулой $\\phi(x) = \\sin (\\frac 3 2\\pi \\frac x L )$. \n",
    "\n",
    "> Далее вы должны написать свои мысли по поводу задачи, включая те моменты которые были пропущены в постановке преподавателя (эти моменты потом станут **параметрами** в решении)\n",
    "\n",
    "Сопротивлением воздуха и массой струны можно пренебречь. Струна считается абсолютно тонкой, однородной и нерастяжимой. Свободное колебание струны на правом конце можно описать граничным условием второго рода, закрепленный конец стрнуны подчинаяется граничному условию первого рода.\n",
    "\n",
    "Предположим что струна у нас  - гитарная стальная струна, сила преднатяжения которой (типовая) равна 60Н, а материал изготовления - сталь с плотностью  $7700 \\;кг/м^3$. Тогда параметр краевой задачи $c = \\sqrt{\\frac T \\rho} \\approx  0.088$ \n",
    "\n",
    "> Для струны можно выбрать струны из пластика (лески, ПВХ), металла (разного). Можно посчитать вибрации деревянной или бумажной пластины с минимальным натяжением (как например излучатели в колонках).\n",
    ">\n",
    "> Для уравнения теплопроводности можно смело выбирать разные металлы с разной теплопроводностью или даже воду или спирт в запаяной трубке.\n",
    "\n",
    "В начальном условии не уточнаяется, но мы решая задачу будем считать начальное распределение скоростей нулевым: $U_t = \\psi(x) = 0$ \n",
    "\n",
    "> Начальное распределение очень важно и вызовет множество доп.заданий и доп.вопросов, обязательно предусмотрите свою программу так, чтобы можно было задать не ноль и ничего не сломалось\n",
    "\n",
    "Дифференциальное уравнение колебаний тогда можно записать как:\n",
    "$$\n",
    "U_{tt} = 0.0078 \\cdot U_{xx} \\\\\n",
    "\\begin{cases}\n",
    "U(x,0) = \\sin (\\frac 3 2\\pi \\frac x L )\\\\\n",
    "U_t (x,0) = 0\\\\\n",
    "U(0,t) = 0\\\\\n",
    "U_x(L,t) = 0\n",
    "\\end{cases}\n",
    "$$\n",
    "\n",
    "> Обратите внимание, что у нас нет никаких F и прочих посторонних букв значение которых мы не знаем!\n",
    "\n",
    "> **ОЦЕНКА** **В ОРИОКС** за эту часть лабораторной работы составляет приблизительно 0.5 баллов из 10, начисляется в графу \"лабораторные работы\"\n",
    ">\n",
    "> **КРИТЕРИЙ** - это полнота данного пункта, в особенности - то как вы проанализировали части задачи, которые в явном виде в условии не упоминаются. "
   ]
  },
  {
   "cell_type": "markdown",
   "id": "93000c0e",
   "metadata": {},
   "source": [
    "### 2. Постановка КЗ (2-я лабораторная)\n",
    "\n",
    "Обезразмерить переменные. При расчете устойчивости значения шагов задаются следующим образом на квадратной сетке:\n",
    "$$\n",
    "\\begin{matrix}\n",
    "t = n \\cdot \\delta t& n = 1 ... N& t = 0 ... 1\\\\\n",
    "x = m \\cdot \\delta x& m = 1 ... M& x = 0 ... 1\\\\\n",
    "\\end{matrix}\n",
    "$$\n",
    "Как видите у нас переменная T и переменная X обе меняются от 0 до 1 и условия устойчивости применяются соответственно. Нам нужно \"расставить масштаб\" для переменных чтобы он удовлетворял нашему условию:\n",
    "$$\n",
    "x_{max} = L \\implies \\bar x = \\frac x L\\\\\n",
    "t_{max} = T \\implies \\bar t = \\frac t T\n",
    "$$\n",
    "На практике для простоты берут время Т = 1 секунде. Длину L мы возьмем равную 10см или 0.1 метра, тогда по правилам производных:\n",
    "$$\n",
    "U_{t} = U_{\\bar{t}}\\cdot (\\bar t)'_t =\\frac{1}{T} U_{\\bar{t}}\\\\\n",
    "U_{tt} = \\frac{1}{T^2} U_{\\bar{tt}}\\\\\n",
    "U_{x} = U_{\\bar{x}}\\cdot (\\bar x)'_x =\\frac{1}{L} U_{\\bar{xx}}\\\\\n",
    "U_{xx} = \\frac{1}{L^2} U_{\\bar{xx}}\\\\\n",
    "$$\n",
    "\n",
    "\n",
    "Тогда исходная краевая задача будет выглядеть как:\n",
    "$$\n",
    "U_{tt} = 0.78 \\cdot U_{xx} \\\\\n",
    "\\begin{cases}\n",
    "U(x,0) = \\sin (\\frac 3 2\\pi x)\\\\\n",
    "U_t (x,0) = 0\\\\\n",
    "U(0,t) = 0\\\\\n",
    "U_x(1,t) = 0\n",
    "\\end{cases}\n",
    "$$\n",
    "\n",
    "> Важно! Не забудьте внимательно сделать то же самое для ГУ и НУ, если там есть производная U, то это не просто замена переменных, надо не забыть домножение на соответствующий коэффициент.\n",
    "\n",
    "> Сразу дополнительный вопрос - подумайте, почему решение после одной секуды продолжает оставаться правильным? Напишите свою версию в отчет простыми словами.\n",
    "\n",
    "> **ОЦЕНКА** **В ОРИОКС** за эту часть лабораторной работы составляет приблизительно 0.5 баллов из 10, ставится в \"лабораторные\"\n",
    "\n",
    "> **КРИТЕРИЙ** наличие обезразмеренных переменных, правильный выбор ГУ и НУ. Во многом перекликается с пунктом 1"
   ]
  },
  {
   "cell_type": "markdown",
   "id": "c8a97bce",
   "metadata": {},
   "source": [
    "### 3. Сеточный шаблон (3-я лабораторная)\n",
    "\n",
    "((Описание двух сеточных шаблонов - 1 явный и 1 неявный))"
   ]
  },
  {
   "cell_type": "markdown",
   "id": "616cfd7d",
   "metadata": {},
   "source": [
    "> **ОЦЕНКА** **В ОРИОКС** за эту часть лабораторной работы составляет приблизительно 2 балла из 10, ставится в \"лабораторные\"\n",
    ">\n",
    "> **КРИТЕРИЙ** для оценки: по 1 баллу за каждый шаблон, который должен содержать корректную сеточную задачу для него, иллюстрацию и требования по устойчивости и сходимости (без доказательства). Самое главное что должно быть - должен быть описан алгоритм решения. Например для явного шаблона должна быть выведена формула для искомого значения U, а для неявного - нарисована матрица, которая будет решаться методом прогонки."
   ]
  },
  {
   "cell_type": "markdown",
   "id": "256f4bfb",
   "metadata": {},
   "source": [
    "### 4. Результат решения (3-я лабораторная)\n",
    "\n",
    "((Код, график, пример запуска))\n",
    "\n",
    "> Код вставляем в блок кода, с сохранением форматирования\n",
    ">\n",
    "> После кода пишем как его вызвать с примерами и краткой информацией какой параметр функции за что отвечает, как их менять.\n",
    ">\n",
    "> Запускаем со своими параметрами и показываем графики:\n",
    ">\n",
    "> * В те же временные отрезки что и при исследовании своей задачи в готовых программах для сравнения визуально\n",
    "> * Если есть график аналитического решения - дублируем его тут чтобы сравнить\n",
    "> * сравниваем поведение результата при $t\\to \\infty$\n",
    "\n",
    "> **ОЦЕНКА** **В ОРИОКС** за эту часть лабораторной работы составляет приблизительно 2 балла из 10, ставится в \"лабораторные\"\n",
    ">\n",
    "> **КРИТЕРИЙ** 1 балл выдается за наличие и работоспособность кода,  и 1 балл за графики - достаточно ли их, насколько они иллюстративны."
   ]
  },
  {
   "cell_type": "markdown",
   "id": "5043d46f",
   "metadata": {},
   "source": [
    "### 5. Внешние силы и параметр (4-я лабораторная)\n",
    "\n",
    "((Код, график, пример запуска))\n",
    "\n",
    "> Код вставляем в блок кода, с сохранением форматирования\n",
    ">\n",
    "> После кода пишем как его вызвать с примерами и краткой информацией какой параметр функции за что отвечает, как их менять.\n",
    ">\n",
    "> Запускаем со своими параметрами и показываем графики:\n",
    ">\n",
    "> * В те же временные отрезки что и при исследовании своей задачи в готовых программах для сравнения визуально\n",
    "> * Если есть график аналитического решения - дублируем его тут чтобы сравнить\n",
    "> * сравниваем поведение результата при $t\\to \\infty$\n",
    "\n",
    "> **ОЦЕНКА** **В ОРИОКС** за эту часть лабораторной работы составляет приблизительно 2 балла из 10, ставится в \"лабораторные\"\n",
    ">\n",
    "> **КРИТЕРИЙ** 1 балл выдается за наличие и работоспособность кода,  и 1 балл за графики - достаточно ли их, насколько они иллюстративны."
   ]
  },
  {
   "cell_type": "markdown",
   "metadata": {},
   "source": [
    "### 6. Точность и устойчивость (5-я лабораторная)\n",
    "\n",
    "((В процессе разработки))\n",
    "\n",
    "> **ОЦЕНКА** **В ОРИОКС** за эту часть лабораторной работы составляет приблизительно 3 балла из 10, ставится в \"лабораторные\"\n",
    ">\n",
    "> **КРИТЕРИЙ** 1 балл выставляется за правильное определение точности вашей разностной схемы, 1 балл за алгоритм проверки точности и 1 балл за правильность результата проверки точности \n"
   ]
  },
  {
   "cell_type": "markdown",
   "id": "b680182f",
   "metadata": {},
   "source": [
    "### 7. Индивидуальный проект (6-8я лабораторная)\n",
    "\n",
    "<u><<<СМ. МУС СТУДЕНТАМ ПО ИНДИВИДУАЛЬНОМУ ПРОЕКТУ>>></u>\n",
    "\n",
    "\n",
    "\n",
    "> **ОЦЕНКА** **В ОРИОКС** за эту часть лабораторной работы составляет приблизительно 20 баллов из 20, начисляется в графу \"Индивидуальный проект\". При этом ставится максимальная оценка либо за пункт 3 либо за пункт 7 настоящего отчета, т.е. баллы не суммируются. Таким образом можно делать что-то одно.\n",
    ">\n",
    "> **КРИТЕРИИ** На усмотрение преподавателя, оценка разделена условно на три равные части, за постановку КЗ за качество кода (см. предыдущий пункт) и за правильность результата. (7+8+7)\n"
   ]
  },
  {
   "cell_type": "markdown",
   "id": "645bf7be",
   "metadata": {},
   "source": []
  }
 ],
 "metadata": {
  "kernelspec": {
   "display_name": "usr",
   "language": "python",
   "name": "python3"
  },
  "language_info": {
   "codemirror_mode": {
    "name": "ipython",
    "version": 3
   },
   "file_extension": ".py",
   "mimetype": "text/x-python",
   "name": "python",
   "nbconvert_exporter": "python",
   "pygments_lexer": "ipython3",
   "version": "3.12.3"
  }
 },
 "nbformat": 4,
 "nbformat_minor": 5
}
