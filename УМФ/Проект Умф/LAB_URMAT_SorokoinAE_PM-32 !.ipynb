{
 "cells": [
  {
   "cell_type": "markdown",
   "id": "0d3b61c6",
   "metadata": {},
   "source": [
    "# Лабораторная работа по предмету <br>\"Уравнения математической физики\""
   ]
  },
  {
   "cell_type": "markdown",
   "id": "70f25b28",
   "metadata": {},
   "source": [
    "**Выполнил** :  Сорокин Андрей Евгеньевич (ПМ-32) (eugeneunknow78@gmail.com) <br>\n",
    "**Преподаватель**: Гурьянов М.А., кафедра ВМ-1 <br>\n",
    "Вариант индивидуальной задачи № 17 <br>\n",
    "1 семестр, 2024 год <br>\n",
    "МИЭТ, Зеленоград"
   ]
  },
  {
   "cell_type": "markdown",
   "id": "13e5d9cf",
   "metadata": {},
   "source": [
    "### **1. Постановка задачи (2 лабораторная работа)**"
   ]
  },
  {
   "cell_type": "markdown",
   "id": "7ce36095",
   "metadata": {},
   "source": [
    "\n",
    "**Задача**\n"
   ]
  },
  {
   "cell_type": "markdown",
   "id": "fe93b681",
   "metadata": {},
   "source": [
    "Струна конечной длины. Левый конец струны закреплен, правый движется по закону:\n",
    "$\\alpha$ * $e^{-(t - t_{0})^{2} / \\tau^{2}}$. <br>Параметры: плотность струны, натяжение струны, длина струны,\n",
    "амплитуда импульса $\\alpha$  и характерное время нарастания/спадания импульса $\\tau$"
   ]
  },
  {
   "cell_type": "markdown",
   "id": "888800cf",
   "metadata": {},
   "source": [
    "Сопротивлением воздуха и массой струны можно пренебречь. Струна считается абсолютно\n",
    "тонкой, однородной и нерастяжимой. Свободное колебание струны на правом конце можно\n",
    "описать граничным условием второго рода, закрепленный конец стрнуны подчинаяется\n",
    "граничному условию первого рода."
   ]
  },
  {
   "cell_type": "markdown",
   "id": "13b155f2",
   "metadata": {},
   "source": [
    "Предположим что струна у нас - гитарная струна, сила преднатяжения которой\n",
    "(типовая) равна 20 Н.<br> Материал изготовления медь $\\rho$ = 8900$ \\frac{кг}{м^{3}} $"
   ]
  },
  {
   "cell_type": "markdown",
   "id": "526b7478",
   "metadata": {},
   "source": [
    "**Начальные условия:**  \n",
    "1. Начальное смещение струны: $U \\left( 0,x \\right) = f \\left( x \\right)$, где функция $f \\left( x \\right)$ определяет начальное положение струны в момент времени $t = 0$.\n",
    "2. Начальная скорость струны: $\\frac{\\partial U}{\\partial t} = g \\left( x \\right)$, где функция $g \\left( x \\right)$ описывает начальную скорость струны в момент времени $t = 0$."
   ]
  },
  {
   "cell_type": "markdown",
   "id": "aba26f2c",
   "metadata": {},
   "source": [
    "**Граничные условия:** \n",
    "1. Граничное условие для левого конца струны $\\left(x = 0 \\right)$: $U \\left( t,0 \\right) = l \\left( t \\right)$.\n",
    "2. Граничное условие для правого конца струны $\\left(x = L \\right)$: $U \\left( t,L \\right) = r \\left( t \\right)$."
   ]
  },
  {
   "cell_type": "markdown",
   "id": "47ad9465",
   "metadata": {},
   "source": [
    "**Обоснование условий:**  \n",
    "1. Начальные условия: Они задают начальное состояние струны и определяют, как она выглядит в момент времени $t = 0$. Если струна покоится, $f \\left( x \\right) = 0$ и $g \\left( x \\right) = 0$.\n",
    "2. Граничные условия: Они указывают на то, что левый конец струны закреплён и неподвижен, а правый движется в соответствии с законом $l \\left( t \\right) = 0$, $r \\left( t \\right) = \\alpha e^{-(t - t_{0})^{2}}$."
   ]
  },
  {
   "cell_type": "markdown",
   "id": "eaad3e29",
   "metadata": {},
   "source": [
    "**Краевая задача**"
   ]
  },
  {
   "cell_type": "markdown",
   "id": "11e8e58e",
   "metadata": {},
   "source": [
    "$$U_{tt}-6110.5489U_{xx} = 0$$\n",
    "$$\\begin{cases}\n",
    "U(x,0)=0 \\\\\n",
    "U_{t}(x,0) = 0 \\\\\n",
    "U(0,t) = 0 \\\\\n",
    "U(L,t)= \\alpha e^{-(t - t_{0})^{2}}\\\\\n",
    "\\end{cases}$$\n",
    "$c$  - параметр  краевой  задачи"
   ]
  },
  {
   "cell_type": "markdown",
   "id": "64c24003",
   "metadata": {},
   "source": [
    "**Обозначения**"
   ]
  },
  {
   "cell_type": "markdown",
   "id": "c144e859",
   "metadata": {},
   "source": [
    "- $U(x, t)$: смещение струны в точке x и в момент времени t\n",
    "- $T$ -  натяжение  струны ($20Н$)\n",
    "- $s$ - площадь сечения струны ($ 3.678 \\cdot 10^{-7} м^2$)\n",
    "- $\\rho_l$: линейная плотность струны($3.273 \\cdot 10^{-3} кг/м$) \n",
    "- $L$ - длина струны ($0.1м$)\n",
    "- $\\alpha$ - амплитуда импульса $[0.005,0.01]м$\n",
    "- $t_{0}$- момент времени, в который начинается действие импульса $(0.001 сек)$\n",
    "- $\\tau$ - характерное время нарастания/спадания импульса $[0.025,0.05]сек$\n",
    "- $c$ = $\\sqrt{\\frac{T}{\\rho_l}} ≈ 78.170$:\n"
   ]
  },
  {
   "cell_type": "markdown",
   "id": "16052f15",
   "metadata": {},
   "source": [
    "### **2. Теоретические выкладки (1 лабораторная работа)**"
   ]
  },
  {
   "cell_type": "markdown",
   "id": "9fe130af",
   "metadata": {},
   "source": [
    "**Теоритическая справка**"
   ]
  },
  {
   "cell_type": "markdown",
   "id": "80b314db",
   "metadata": {},
   "source": [
    "| **Понятие**                                    | **Определение**                                                                                                                                                              |\n",
    "|------------------------------------------------|------------------------------------------------------------------------------------------------------------------------------------------------------------------------------|\n",
    "| **Сетка**                                      | Дискретное представление пространства, состоящее из узлов (точек), в которых задаются значения функции или ее производных.                                                  |\n",
    "| **Равномерная сетка**                          | Сетка, в которой расстояния между соседними узлами одинаковы на всей области.                                                                                               |\n",
    "| **Неравномерная сетка**                        | Сетка, в которой расстояния между узлами могут варьироваться, позволяя более точно моделировать функции с высоким градиентом или другими особенностями.                     |\n",
    "| **Сеточная область**                           | Часть пространства, в которой расположены узлы сетки и где происходит решение задачи, ограниченная краевыми или граничными условиями.                                     |\n",
    "| **Граница сеточной области**                   | Края области, в которой решается задача; отличается от сетки тем, что это не точки (узлы), а контуры или линии, определяющие пределы вычисляемой области.                     |\n",
    "| **Сеточная область и область определения решения** | Сеточная область — это конкретная область, в которой решается численная задача, в то время как область определения решения может быть более широкой, включая всю функцию. |\n",
    "| **Сеточная функция**                           | Функция, определенная только на узлах сетки, не обязательно обеспечивающая непрерывность между узлами.                                                                     |\n",
    "| **Аналитическая функция**                      | Функция, заданная на всей области определения и обладающая свойствами гладкости и непрерывности.                                                                            |\n",
    "| **Сходимость решения**                         | Свойство численного метода, при котором решение, получаемое с помощью сеток, стремится к настоящему (точному) решению с уменьшением размера шага сетки.                     |\n",
    "| **Точность решения**                           | Степень, с которой численное решение приближается к точному решению проблемы; часто зависит от порядка метода и расстояния между узлами.                                   |\n",
    "| **КЗ**                                         | Краевые условия (КЗ) — условия, задающие значения или свойства решения на границах области.                                                                                 |\n",
    "| **Сеточная задача**                            | Задача, в которой уравнения (и/или условия) решаются на дискретной сетке с заданными краевыми и начальными условиями для получения численного решения.                      |\n"
   ]
  },
  {
   "cell_type": "markdown",
   "id": "3d1bb61c",
   "metadata": {},
   "source": [
    "### **3. Постановка краевой задачи (3 лабораторная работа)**"
   ]
  },
  {
   "cell_type": "markdown",
   "id": "890cd860",
   "metadata": {},
   "source": [
    "**Обезразмеривание переменных:**  \n",
    "При расчете устойчивости значения шагов на квадратной сетке задаются следующим образом:  \n",
    "$$t = p \\tau, \\; \\; \\; \\; p = 1,..., P, \\; \\; \\; \\; t \\in [0,1]$$\n",
    "$$x = m h, \\; \\; \\; \\; m = 1,..., M, \\; \\; \\; \\; x \\in [0,1]$$\n",
    "Переменные $t$ и $x$ меняются от $0$ до $1$, и условия устойчивости применяются соответственно. Нам нужно изменить масштаб для переменных (обезразмерить переменные), чтобы он удовлетворял нашему условию:\n",
    "$$t \\in [0,T], \\; \\; \\; \\; \\overline{t} = \\frac{t}{T}, \\; \\; \\; \\; \\overline{t} \\in [0,1]$$\n",
    "$$x \\in [0,L], \\; \\; \\; \\; \\overline{x} = \\frac{x}{L}, \\; \\; \\; \\; \\overline{x} \\in [0,1]$$\n"
   ]
  },
  {
   "cell_type": "markdown",
   "id": "af592ce8",
   "metadata": {},
   "source": [
    "**Краевая задача:**  \n",
    "Перепишу производные функции $U(\\overline{x},\\overline{t})$ по $t$ и $x$ согласно правилу взятия производной от сложной функции:\n",
    "$$U_t=U_{\\overline{t}} \\cdot \\overline{t}_{t}= \\frac{1}{T} \\cdot U_{\\overline{t}}$$\n",
    "$$U_{tt}= \\frac{1}{T^2} \\cdot U_{\\overline{t} \\overline{t}}$$\n",
    "$$U_x=U_{\\overline{x}} \\cdot \\overline{x}_{x}= \\frac{1}{L} \\cdot U_{\\overline{x}}$$\n",
    "$$U_{xx}= \\frac{1}{L^2} \\cdot U_{\\overline{x} \\overline{x}}$$\n"
   ]
  },
  {
   "cell_type": "markdown",
   "id": "db59f64c",
   "metadata": {},
   "source": [
    "Получим:<br>\n",
    "$$\\frac{1}{T^2} U_{\\overline{t}\\overline{t}}-\\frac{1}{L^2}6110.5489U_{\\overline{x}\\overline{x}} = 0$$\n",
    "$$\\begin{cases}\n",
    "U(\\overline{x},0)=0 \\\\\n",
    "\\frac{1}{T} U_{\\overline t}(\\overline x,0) = 0 \\\\\n",
    "U(0,\\overline t) = 0 \\\\\n",
    "U(1,\\overline t)= \\alpha  e^{-(\\frac{t}{T} - t_{0})^{2} / \\tau^{2}} \\\\\n",
    "\\end{cases}$$"
   ]
  },
  {
   "cell_type": "markdown",
   "id": "244b11ea",
   "metadata": {},
   "source": [
    "### **4. Сеточный шаблон (4 лабораторная работа)**"
   ]
  },
  {
   "cell_type": "markdown",
   "id": "8a3e18e3",
   "metadata": {},
   "source": [
    "**Сеточная область:**  \n",
    "Для рассмотренной задачи:  \n",
    "$$W^h = \\{ (x_m, t_p) \\; | \\; m=0,1,...,M; \\; p=0,1,...,P \\}$$\n",
    "$$U^h = \\{ U_m^p \\; | \\; m=0,1,...,M; \\; p=0,1,...,P \\} \\text{,}$$\n",
    "где $U_m^p$ - компонента сеточной функции, относящаяся к узлу $(x_m, t_p)$.  \n",
    "$$t = p \\cdot \\tau^{*} \\text{, где } \\tau^{*} \\text{- шаг по времени, } P \\cdot \\tau = 1$$\n",
    "$$x = m \\cdot h \\text{, где } h \\text{- шаг по координате, } M \\cdot h = 1$$"
   ]
  },
  {
   "cell_type": "markdown",
   "id": "383d506d",
   "metadata": {},
   "source": [
    "**Явный шаблон схемы крест**"
   ]
  },
  {
   "attachments": {
    "image.png": {
     "image/png": "[encoded data removed]"
    }
   },
   "cell_type": "markdown",
   "id": "ba988f70",
   "metadata": {},
   "source": [
    "![image.png](attachment:image.png)"
   ]
  },
  {
   "cell_type": "markdown",
   "id": "0404bb10",
   "metadata": {},
   "source": [
    "Разностные уравнения для внутренних узлов сетки:\n",
    "$$\\frac{1}{T^2} \\cdot \\frac{U_m^{p+1}-2U_m^p+U_m^{p-1}}{\\tau^{*2}} -  \\frac{1}{L^2} 6110.5489 \\frac{U_{m+1}^p-2U_m^p+U_{m-1}^p}{h^2} = 0  \\; \\; \\; \\; (1.1) $$"
   ]
  },
  {
   "cell_type": "markdown",
   "id": "4495a39f",
   "metadata": {},
   "source": [
    "Аппроксимация краевых условий:\n",
    "$$U_0^p = 0 \\; \\; \\; \\; (1.2)$$\n",
    "$$U_M^p = \\alpha  e^{-(\\frac{p\\tau^*}{T} - t_{0})^{2} / \\tau^{2}}  \\; \\; \\; \\; (1.3)$$\n",
    "$$p=0,1,...,P$$"
   ]
  },
  {
   "cell_type": "markdown",
   "id": "20722509",
   "metadata": {},
   "source": [
    "Аппроксимация начальных условий:\n",
    "$$U_m^0=0 \\; \\; \\; \\; (1.4)$$\n",
    "$$\\frac{1}{T} \\cdot \\frac{U_m^1-U_m^0}{\\tau^*}=0 \\; \\; \\; \\; (1.5)$$\n",
    "$$m=0,1,...,M$$"
   ]
  },
  {
   "cell_type": "markdown",
   "id": "4d13c69a",
   "metadata": {},
   "source": [
    "Во внутренних узлах уравнения $(1.1), (1.2), (1.3)$ и $(1.4)$ аппроксимируют исходное дифференциальное уравнение со вторым порядком точности $o(\\tau^2 + h^2)$.Однако $(1.5)$ имеет аппроксимацию с первым порядком точности  $o(\\tau)$. Поэтому схема имеет первый порядок точности."
   ]
  },
  {
   "cell_type": "markdown",
   "id": "970f1f04",
   "metadata": {},
   "source": [
    "Представим значение решения в точках первого слоя по времени ($p=1$) в виде ряда Тейлора по степеням $\\tau$:\n",
    "$$U(\\tau^{*}, x_m) = U(0,x_m) + \\tau^{*} \\cdot U_t(0,x_m) + \\frac{\\tau^{*2}}{2 \\!} \\cdot U_{tt}(0,x_m) + o(\\tau^{*3})$$\n",
    "$$U_{tt} = 6110.5489\\frac{T^2}{L^2} \\cdot U_{xx}$$\n",
    "$$U(\\tau^*, x_m) = U(0,x_m) + \\tau^* \\cdot U_t(0,x_m) + \\frac{\\tau^{*2}}{2 \\!}U_{tt}(0,x_m) + o(\\tau^{*3})$$\n",
    "$$U_m^1 = 6110.5489\\cdot\\frac{\\tau^{*2}}{2} \\cdot \\frac{T^2}{L^2} \\cdot \\frac{-2 \\cdot \\alpha \\cdot e^{-\\left(\\frac{p \\tau^*}{T} - t_0\\right)^{2} / \\tau^{2}}}{h^2}+o(\\tau^{*3})\n",
    "$$\n",
    "$$\\frac{U_m^1-U_m^0}{\\tau^*}= 6110.5489\\cdot\\frac{\\tau^{*}}{2} \\cdot \\frac{T^2}{L^2} \\cdot \\frac{-2 \\cdot \\alpha \\cdot e^{-\\left(\\frac{p \\tau^*}{T} - t_0\\right)^{2} / \\tau^{2}}}{h^2}+o(\\tau^{*2})(1.6)$$\n",
    "Т.е. последнее выражение аппроксимирует $U_t(0,x_m)$ со вторым порядком точности."
   ]
  },
  {
   "cell_type": "markdown",
   "id": "9649df44",
   "metadata": {},
   "source": [
    "Теперь во внутренних узлах уравнения $(1.1), (1.2), (1.3), (1.4)$ и $(1.6)$ аппроксимируют исходное дифференциальное уравнение со вторым порядком точности $o(\\tau^2 + h^2)$."
   ]
  },
  {
   "cell_type": "markdown",
   "id": "b226995d",
   "metadata": {},
   "source": [
    "Схема является условно-устойчивой. Условие устойчивости численного решения - число Куранта $Cu = \\frac{78.170 \\cdot \\tau}{h} \\leq 1$."
   ]
  },
  {
   "cell_type": "markdown",
   "id": "82c97fdc",
   "metadata": {},
   "source": [
    "$$U_m^{p+1} = \\frac{\\tau^{*2}\\cdot T^2}{L^2}\\cdot 6110.5489 \\cdot \\frac{U_{m+1}^p-2U_m^p+U_{m-1}^p}{h^2}+2U_m^p-U_m^{p-1}$$\n",
    "\n",
    "\n"
   ]
  },
  {
   "cell_type": "markdown",
   "id": "49b3bb53",
   "metadata": {},
   "source": [
    "$$U_m^1 = 6110.5489\\cdot\\frac{\\tau^{*2}}{2} \\cdot \\frac{T^2}{L^2} \\cdot \\frac{-2 \\cdot \\alpha \\cdot e^{-\\left(\\frac{p \\tau^*}{T} - t_0\\right)^{2} / \\tau^{2}}}{h^2}$$"
   ]
  },
  {
   "cell_type": "markdown",
   "id": "583c3e65",
   "metadata": {},
   "source": [
    "$$U_m^0=0 \\; \\; \\; \\; $$"
   ]
  },
  {
   "cell_type": "markdown",
   "id": "e86da7d3",
   "metadata": {},
   "source": [
    "$$U_0^p = 0 \\; \\; \\; \\; $$"
   ]
  },
  {
   "cell_type": "markdown",
   "id": "22a0c986",
   "metadata": {},
   "source": [
    "\n",
    "$$U_M^p = \\alpha  e^{-(\\frac{p\\tau^*}{T} - t_{0})^{2} / \\tau^{2}}  \\; \\; \\; \\; $$"
   ]
  },
  {
   "cell_type": "markdown",
   "id": "ecdd2f51",
   "metadata": {},
   "source": [
    "**Неявный шаблон (1):**"
   ]
  },
  {
   "attachments": {
    "image.png": {
     "image/png": "[encoded data removed]"
    }
   },
   "cell_type": "markdown",
   "id": "bd358ba2",
   "metadata": {},
   "source": [
    "![image.png](attachment:image.png)"
   ]
  },
  {
   "cell_type": "markdown",
   "id": "4e3b8b03",
   "metadata": {},
   "source": [
    "Разностные уравнения для внутренних узлов сетки:\n",
    "$$\\frac{1}{T^2} \\cdot \\frac{U_m^{p+1}-2U_m^p+U_m^{p-1}}{\\tau^{*2}} - 6110.5489 \\frac{1}{L^2} \\cdot \\frac{U_{m+1}^{p+1}-2U_m^{p+1}+U_{m-1}^{p+1}}{h^2} = 0  \\; \\; \\; \\; (2.1) $$"
   ]
  },
  {
   "cell_type": "markdown",
   "id": "ff5cc559",
   "metadata": {},
   "source": [
    "Аппроксимация краевых условий:\n",
    "$$U_0^p = 0 \\; \\; \\; \\; (2.2)$$\n",
    "$$U_M^p = \\alpha  e^{-(\\frac{p\\tau^*}{T} - t_{0})^{2} / \\tau^{2}}  \\; \\; \\; \\; (2.3)$$\n",
    "$$p=0,1,...,P$$"
   ]
  },
  {
   "cell_type": "markdown",
   "id": "aae1cb9a",
   "metadata": {},
   "source": [
    "Аппроксимация начальных условий:\n",
    "$$U_m^0=0 \\; \\; \\; \\; (2.4)$$\n",
    "$$\\frac{U_m^1-U_m^0}{\\tau^*}= 6110.5489\\cdot\\frac{\\tau^{*}}{2} \\cdot \\frac{T^2}{L^2} \\cdot \\frac{-2 \\cdot \\alpha \\cdot e^{-\\left(\\frac{p \\tau^*}{T} - t_0\\right)^{2} / \\tau^{2}}}{h^2}$$"
   ]
  },
  {
   "cell_type": "markdown",
   "id": "7fdb2c87",
   "metadata": {},
   "source": [
    "Во внутренних узлах уравнения $(2.1), (2.2), (2.3), (2.4)$ и $(2.5)$ аппроксимируют исходное дифференциальное уравнение со вторым порядком точности $o(\\tau^2 + h^2)$."
   ]
  },
  {
   "cell_type": "markdown",
   "id": "6b9161e0",
   "metadata": {},
   "source": [
    "Из уравненя $(2.1)$ получим значения сеточной функции $U_m^p$ в узлах $(p+1)$:"
   ]
  },
  {
   "cell_type": "markdown",
   "id": "e650374e",
   "metadata": {},
   "source": [
    "$$U_m^{p+1}\\cdot(2+\\frac{T^2 \\tau^{*2}}{h^2 \\cdot L^2}\\cdot c^2)-U_{m+1}^{p+1}\\cdot(\\frac{T^2 \\tau^{*2}}{h^2 \\cdot L^2}\\cdot c^2)-U_{m-1}^{p+1}\\cdot(\\frac{T^2 \\tau^{*2}}{h^2 \\cdot L^2}\\cdot c^2)=U_m^{p-1}-U_m^{p}$$"
   ]
  },
  {
   "cell_type": "markdown",
   "id": "bf67f5e6",
   "metadata": {},
   "source": [
    "$$U_0^p = 0 \\; \\; \\implies \\; \\; \\chi_1 = \\mu_1 = 0$$\n",
    "$$U_M^p = \\alpha  e^{-(\\frac{p\\tau^*}{T} - t_{0})^{2} / \\tau^{2}} \\; \\; \\implies \\; \\; \\chi_2 = \\mu_2 =  \\alpha  e^{-(\\frac{p\\tau^*}{T} - t_{0})^{2} / \\tau^{2}}$$"
   ]
  },
  {
   "cell_type": "markdown",
   "id": "5dfa4c9b",
   "metadata": {},
   "source": [
    "Тогда матрица будет иметь вид:\n",
    "$$AU = F \\; \\; \\; \\; (2.8)$$"
   ]
  },
  {
   "cell_type": "markdown",
   "id": "a4fbd7a4",
   "metadata": {},
   "source": [
    "$$ A = \\left( \\begin{matrix}\n",
    "-1 & 0 & ... & ... & ... & ... & ... \\\\\n",
    "(\\frac{T^2 \\tau^{*2}}{h^2 \\cdot L^2}\\cdot c^2) & -(2+\\frac{T^2 \\tau^{*2}}{h^2 \\cdot L^2}\\cdot c^2) & \\cdot(\\frac{T^2 \\tau^{*2}}{h^2 \\cdot L^2}\\cdot c^2) & 0 & ... & ... & ... \\\\\n",
    "0 &\\frac{T^2 \\tau^{*2}}{h^2 \\cdot L^2}\\cdot c^2  &-(2+\\frac{T^2 \\tau^{*2}}{h^2 \\cdot L^2}\\cdot c^2) & \\frac{T^2 \\tau^{*2}}{h^2 \\cdot L^2}\\cdot c^2 & 0 & ... & ... \\\\\n",
    "... & 0 &\\frac{T^2 \\tau^{*2}}{h^2 \\cdot L^2}\\cdot c^2  &-(2+\\frac{T^2 \\tau^{*2}}{h^2 \\cdot L^2}\\cdot c^2) & \\frac{T^2 \\tau^{*2}}{h^2 \\cdot L^2} \\cdot c^2  & 0 & ... \\\\\n",
    "... & ... & ... & ... & ... & ... & ... \\\\\n",
    "... & ... & ... & 0 &\\frac{T^2 \\tau^{*2}}{h^2 \\cdot L^2}\\cdot c^2  & -(2+\\frac{T^2 \\tau^{*2}}{h^2 \\cdot L^2}\\cdot c^2) & \\frac{T^2 \\tau^{*2}}{h^2 \\cdot L^2}\\cdot c^2\\\\\n",
    "... & ... & ... & ... & ... & \\alpha  e^{-(\\frac{p\\tau^*}{T} - t_{0})^{2} / \\tau^{2}}  & -1\n",
    "\\end{matrix} \\right)$$\n"
   ]
  },
  {
   "cell_type": "markdown",
   "id": "963ccd79",
   "metadata": {},
   "source": [
    "$$ U = \\left[ \\begin{matrix}\n",
    "&U_0^{p+1} \\\\\n",
    "&U_1^{p+1} \\\\\n",
    "&U_2^{p+1} \\\\\n",
    "&U_3^{p+1} \\\\\n",
    "&... \\\\\n",
    "&U_{M-1}^{p+1} \\\\\n",
    "&U_M^{p+1} \n",
    "\\end{matrix} \\right]$$"
   ]
  },
  {
   "cell_type": "markdown",
   "id": "d8f2e38e",
   "metadata": {},
   "source": [
    "$$\\; \\; \\; \\; F = \\left[ \\begin{matrix}\n",
    "& 0\\\\\n",
    "& -(U_0^{p-1} - U_0^p) \\\\\n",
    "&-(U_1^{p-1} - U_1^p) \\\\\n",
    "&- (U_2^{p-1} - U_2^p) \\\\\n",
    "&- (U_3^{p-1} - U_3^p) \\\\\n",
    "& ... \\\\\n",
    "&- (U_{M-1}^{p-1} - U_{M-1}^p) \\\\\n",
    "&-\\alpha  e^{-(\\frac{p\\tau^*}{T} - t_{0})^{2} / \\tau^{2}}\n",
    "\\end{matrix} \\right]$$"
   ]
  }
 ],
 "metadata": {
  "kernelspec": {
   "display_name": "Python 3 (ipykernel)",
   "language": "python",
   "name": "python3"
  },
  "language_info": {
   "codemirror_mode": {
    "name": "ipython",
    "version": 3
   },
   "file_extension": ".py",
   "mimetype": "text/x-python",
   "name": "python",
   "nbconvert_exporter": "python",
   "pygments_lexer": "ipython3",
   "version": "3.9.13"
  }
 },
 "nbformat": 4,
 "nbformat_minor": 5
}
