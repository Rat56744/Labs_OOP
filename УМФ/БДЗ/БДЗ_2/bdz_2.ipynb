{
 "cells": [
  {
   "cell_type": "markdown",
   "metadata": {},
   "source": [
    "###  Уравнения математической физики БДЗ №1 \n",
    "###  Номер в списке : 21  \n",
    " **Выполнил: Троицкий Тимофей Андреевич ПМ-32**  "
   ]
  },
  {
   "cell_type": "markdown",
   "metadata": {},
   "source": [
    "# Задание 1"
   ]
  },
  {
   "cell_type": "markdown",
   "metadata": {},
   "source": [
    "Найти решение на бесконечной струне методом Даламбера\n",
    "$$U_{tt}=4U_{xx}+ e^x$$\n",
    "$$\\begin{cases}\n",
    "U(x,0)= 5x^3 + 5x^2 + x + 6 \\\\\n",
    "U_t(x,0) = 6x^2 + 5x + 9\n",
    "\\end{cases}$$"
   ]
  },
  {
   "cell_type": "markdown",
   "metadata": {},
   "source": [
    "#### **Решение:**  \n",
    "Перед нами неоднородное ДУЧП с ненулевыми НУ. Решение будем искать методом Даламбера:\n",
    "$$U = \\frac{1}{2}(\\phi(x+at)+\\phi(x-at)) + \\frac{1}{2a}\\int_{x-at}^{x+at}\\psi(\\xi)d\\xi + \\frac{1}{2a}\\int_0^t\\int_{x-a(t-\\tau)}^{x+a(t-\\tau)} f(\\xi, \\tau)d\\xi d\\tau$$"
   ]
  },
  {
   "cell_type": "markdown",
   "metadata": {},
   "source": [
    "##### ***Найдем первое слагаемое:***  \n",
    "\n",
    "$ \\phi(x+at) = \\phi(x+2t) = 5(x+2t)^3 + 5(x+2t)^2 + x+2t + 6 =$  \n",
    "$ = 5(x^3 + 6x^2t + 12x t^2 + 8t^2) + 5(x^2 + 4x t + 4t^2) + x + 2t + 6 = $  \n",
    "$ = 5x^3 + 60x t^2 + 5x^2 + 20t^2 + x + 6 + 30x^2t + 40t^3 + 20tx + 2t$  \n",
    "  \n",
    "$ \\phi(x-at) =  5x^3 + 60x t^2 + 5x^2 + 20t^2 + x + 6 - 30x^2t - 40t^3 - 20tx - 2t$  \n",
    "***Итог:***\n",
    "### $$ \\frac{1}{2}(\\phi(x+at)+\\phi(x-at)) = 5x^3 + 60x t^2 + 5x^2 + 20t^2 + x + 6$$"
   ]
  },
  {
   "cell_type": "markdown",
   "metadata": {},
   "source": [
    "##### ***Найдем второе слагаемое:***  \n",
    "  \n",
    "$$ \\frac{1}{4}\\int_{x-at}^{x+at}6\\xi^2  + 5\\xi + 9d\\xi = \\left.\\frac{1}{4}\\left(2\\xi^3 + \\frac{5\\xi^2}{2} + 9\\xi\\right)\\right|_{x-at}^{x+at} $$  \n",
    "$$ = \\frac{1}{4} \\left(2(x+2t)^3 + \\frac{5}{2}(x+2t)^2 + 9(x+2t) - 2(x-2t)^3 - \\frac{5}{2}(x-2t)^2 - 9(x-2t) \\right) = $$  \n",
    "$$ = \\frac{1}{4}\\left(24x^2t + 32t^3 + 20tx + 36t \\right) = \\left(6x^2t + 8t^3 + 5tx + 9t \\right) $$  \n",
    "***Итог:*** \n",
    "### $$ \\frac{1}{4}\\int_{x-at}^{x+at}\\psi(\\xi)d\\xi =  6x^2t + 8t^3 + 5tx + 9t$$"
   ]
  },
  {
   "cell_type": "markdown",
   "metadata": {},
   "source": [
    "##### ***Найдем третье слагаемое:***  \n",
    "  \n",
    "$$ \\frac{1}{4}\\int_0^t d\\tau\\int_{x-2(t-\\tau)}^{x+2(t-\\tau)} e^\\xi d\\xi =  \\frac{1}{4} \\int_0^t \\left(e^{x+2(t-\\tau)} - e^{x-2(t-\\tau)} \\right)d\\tau$$  \n",
    "$$ = \\frac{1}{4} \\left(\\frac{e^{x+2t-2\\tau}}{-2} - \\frac{e^{x-2t-2\\tau}}{2} \\right) = \\frac{1}{8} \\left(e^{x+2t-2\\tau} - e^{x-2t-2\\tau} \\right)$$\n",
    "***Итог:***\n",
    "### $$ \\frac{1}{2a}\\int_0^t\\int_{x-a(t-\\tau)}^{x+a(t-\\tau)} f(\\xi, \\tau)d\\xi d\\tau = \\frac{1}{8} \\left(e^{x-2t-2\\tau} - e^{x+2t-2\\tau} \\right)$$  "
   ]
  },
  {
   "cell_type": "markdown",
   "metadata": {},
   "source": [
    "#### ***Ответ:***  \n",
    "### $$ U(x,t) = 5x^3 + 5x^2 + 6x^2t + x + 5tx + 60x t^2 + 8t^3 + 20t^2 + 9t + 6 + \\frac{1}{8} \\left(e^{x-2t-2\\tau} - e^{x+2t-2\\tau} \\right)$$"
   ]
  },
  {
   "cell_type": "markdown",
   "metadata": {},
   "source": [
    "# Задание 2"
   ]
  },
  {
   "cell_type": "markdown",
   "metadata": {},
   "source": [
    "Найти решение краевой задачи колебвний струны\n",
    "$$U_{tt}=9U_{xx}+x^3(-l+x)$$\n",
    "$$\\begin{cases} U(x,0)=0 \\\\\n",
    "U_t(x,0) = 0 \\\\\n",
    "U_x(0,t) = 0 \\\\\n",
    "U_x(l,t) = 0 \\end{cases}$$"
   ]
  },
  {
   "cell_type": "markdown",
   "metadata": {},
   "source": [
    "##### **Решение:**  \n",
    "Перед нами неоднородное ДУЧП с однородными НУ и со смешанными однородными ГУ. Т.е. пред нами подзадача 2 метода Фурье. Решение будем искать методом Штурма-Леувилля:  \n",
    "***Собственные значения:***\n",
    "##### $$\\lambda_n = \\left(\\frac{\\pi n}{l}\\right)^2, \\;\\;\\;\\; n \\in N$$\n",
    "***Собственные функции:***\n",
    "##### $$X_n(x)=\\cos\\left(\\frac{\\pi n}{l}x\\right)$$\n",
    "***Представим решение в виде произведения:***\n",
    "##### $$U(x,t) = T(t)X(x) = \\sum_{n=1}^\\infty T_n(t) \\cos\\left(\\frac{\\pi n}{l}x\\right)$$  \n",
    "***Представим функцию $f(x,t)$ в виде ряда Фурье по тригонометрической системе:***\n",
    "##### $$f(x,t) = \\sum_{n=1}^\\infty F_n(t) \\cos\\left(\\frac{\\pi n}{l}x\\right)$$\n",
    "##### $$F_n(t) = \\frac{2}{l} \\int_0^l f(x,t) \\cos\\left(\\frac{\\pi n}{l}x\\right) dx$$\n",
    "\n",
    "$$F_n(t) = \\frac{2}{l} \\int_0^l x^3(-l-x) \\cos\\left(\\frac{\\pi n}{l}x\\right) dx = -2 \\int_0^l x^3 \\cos\\left(\\frac{\\pi n}{l}x\\right) dx - \\frac{2}{l} \\int_0^l x^4 \\cos\\left(\\frac{\\pi n}{l}x\\right)dx =$$\n",
    "\n",
    "$$= \\left. -2 \\left[ 6 \\left(\\frac{l}{\\pi n}\\right)^4 \\cos\\left(\\frac{\\pi nx}{l}\\right) -6x \\left(\\frac{l}{\\pi n}\\right)^3 \\sin\\left(\\frac{\\pi nx}{l}\\right) -3x^2 \\left(\\frac{l}{\\pi n}\\right)^2 \\cos\\left(\\frac{\\pi nx}{l} \\right) +x^3 \\left(\\frac{l}{\\pi n}\\right) \\sin\\left(\\frac{\\pi nx}{l} \\right) \\right]\\right|_0^l -$$\n",
    "\n",
    "$$\\left. -\\frac{2}{l}\\left[ 24 \\left(\\frac{l}{\\pi n}\\right)^5 \\sin\\left(\\frac{\\pi nx}{l}\\right) +24x \\left(\\frac{l}{\\pi n}\\right)^4 \\cos\\left(\\frac{\\pi nx}{l}\\right) -12x^2 \\left(\\frac{l}{\\pi n}\\right)^3 \\sin\\left(\\frac{\\pi nx}{l}\\right) -4x^3 \\left(\\frac{l}{\\pi n}\\right)^2 \\cos\\left(\\frac{\\pi nx}{l} \\right) +x^4 \\left(\\frac{l}{\\pi n}\\right) \\sin\\left(\\frac{\\pi nx}{l} \\right) \\right] \\right|_0^l =$$\n",
    "\n",
    "$$= -2\\left[ 6\\left(\\frac{l}{\\pi n}\\right)^4(-1)^n - 3l^2\\left(\\frac{l}{\\pi n}\\right)^2(-1)^n - 6\\left(\\frac{l}{\\pi n}\\right)^4 \\right] -\\frac{2}{l}\\left[ 24l\\left(\\frac{l}{\\pi n}\\right)^4(-1)^n - 4l^3\\left(\\frac{l}{\\pi n}\\right)^2(-1)^n\\right]=$$\n",
    "\n",
    "#### ***$$=\\left(\\frac{l}{\\pi n}\\right)^4(36 \\cdot (-1)^{n}+12) - l^2 \\left(\\frac{l}{\\pi n}\\right)^2 2 \\cdot (-1)^n$$***\n",
    "##### Найдем $T_n$:\n",
    "\n",
    "$$T_n(t) = \\frac{l}{3\\pi n} \\int_0^t F_n(\\tau) \\sin\\left(\\frac{3\\pi n}{l}(t-\\tau)\\right)d\\tau = \\frac{l}{3\\pi n} \\int_0^t \\left[ \\left(\\frac{l}{\\pi n}\\right)^4(36 \\cdot (-1)^{n}+12) - l^2 \\left(\\frac{l}{\\pi n}\\right)^2 2 \\cdot (-1)^n \\right] \\sin\\left(\\frac{3\\pi n}{l}(t-\\tau)\\right)d\\tau =$$\n",
    "\n",
    "$$= \\left. \\left[ \\left(\\frac{l}{\\pi n}\\right)^6(12 \\cdot (-1)^{n}+4) - l^2 \\left(\\frac{l}{\\pi n}\\right)^4 \\frac{2}{3} \\cdot (-1)^n \\right] \\cos\\left( \\frac{3\\pi n}{l}(t-\\tau) \\right) \\right|_0^t = \\left[ \\left(\\frac{l}{\\pi n}\\right)^6(12 \\cdot (-1)^{n}+4) - l^2 \\left(\\frac{l}{\\pi n}\\right)^4 \\frac{2}{3} \\cdot (-1)^n \\right] \\cdot \\left[ 1-\\cos\\left( \\frac{3\\pi nt}{l} \\right)  \\right]$$\n",
    "\n",
    "Подставим $T_n(t)$ в формулу для $U(x,t)$:\n",
    "$$U(x,t) = \\sum_{n=1}^\\infty \\left[ \\left(\\frac{l}{\\pi n}\\right)^6(12 \\cdot (-1)^{n}+4) - l^2 \\left(\\frac{l}{\\pi n}\\right)^4 \\frac{2}{3} \\cdot (-1)^n \\right] \\cdot \\left[ 1-\\cos\\left( \\frac{3\\pi nt}{l} \\right)  \\right] \\cos\\left(\\frac{\\pi n}{l}x\\right)$$\n",
    "#### **Ответ:**\n",
    "#### $$U(x,t) = \\sum_{n=1}^\\infty \\left[ \\left(\\frac{l}{\\pi n}\\right)^6(12 \\cdot (-1)^{n}+4) - l^2 \\left(\\frac{l}{\\pi n}\\right)^4 \\frac{2}{3} \\cdot (-1)^n\\right] \\cdot \\left[ 1-\\cos\\left( \\frac{3\\pi nt}{l} \\right)  \\right] \\cos\\left(\\frac{\\pi n}{l}x\\right)$$"
   ]
  },
  {
   "cell_type": "markdown",
   "metadata": {},
   "source": [
    "# Задание 3"
   ]
  },
  {
   "cell_type": "markdown",
   "metadata": {},
   "source": [
    "Найти решение краевой задачи колебаний струны\n",
    "$$U_{tt}=9U_{xx}$$\n",
    "$$\\begin{cases} U(x,0)=0 \\\\\n",
    "U_t(x,0) = 0 \\\\\n",
    "U(0,t) = 4t^3+2t^2+10 \\\\\n",
    "U(l,t) = 9t+7 \\end{cases}$$"
   ]
  },
  {
   "cell_type": "markdown",
   "metadata": {},
   "source": [
    "##### **Решение:** Перед нами однородное ДУЧП с однородными НУ и с неоднородными ГУ. Т.е. пред нами подзадача 3 метода Фурье. Решение будем искать методом Фурье:   \n",
    "##### Избавимся от ненулевых ГУ. Для этого представим решение в виде суммы:\n",
    "$$U(x,t)=V(x,t)+W(x,t)$$\n",
    ",где $W(x,t)=\\mu(t)+\\frac{x}{l}(\\nu(t)-\\mu(t))=4t^3+2t^2+10 -\\frac{x}{l}(4t^3+2t^2-9t+3)$.\n",
    "Будем искать решение вокруг прямой $W(x,t)$. Перепишем ДУЧП в новой системе координат:\n",
    "$$V_{tt}=9V_{xx}+\\widetilde{f}(x,t)$$\n",
    "$$\\begin{cases} V(x,0)=\\widetilde{\\phi}(x) \\\\\n",
    "V_t(x,0) = \\widetilde{\\psi}(x) \\\\\n",
    "V(0,t) = 0 \\\\\n",
    "V(l,t) = 0 \\end{cases}$$\n",
    ",где \n",
    "$\\widetilde{f}(x,t)=-\\mu''-\\frac{x}{l}(\\nu''-\\mu'')=-24t-4+\\frac{24xt}{l}+\\frac{4x}{l}$,  \n",
    "$\\widetilde{\\phi}(x)=-\\mu(0)-\\frac{x}{l}(\\nu(0)-\\mu(0))=\\frac{3x}{l}-10$ и  \n",
    "$\\widetilde{\\psi}(x)=-\\mu'(0)-\\frac{x}{l}(\\nu'(0)-\\mu'(0))=-\\frac{9x}{l}$.  \n"
   ]
  },
  {
   "cell_type": "markdown",
   "metadata": {},
   "source": [
    "Разделим эту задачу на две подзадачи.  \n",
    "Подзадача 1:\n",
    "$$V_{tt}=9V_{xx}$$\n",
    "$$\\begin{cases} \n",
    "V(x,0)=\\frac{3x}{l}-10\\\\\n",
    "V_t(x,0) = -\\frac{9x}{l}\\\\\n",
    "V(0,t) = 0 \\\\\n",
    "V(l,t) = 0 \\end{cases}$$\n",
    "Подзадача 2:\n",
    "$$V_{tt}=9V_{xx}+(1-\\frac{x}{l})(-24t-4)$$\n",
    "$$\\begin{cases} V(x,0)=0 \\\\\n",
    "V_t(x,0) = 0 \\\\\n",
    "V(0,t) = 0 \\\\\n",
    "V(l,t) = 0 \\end{cases}$$\n"
   ]
  },
  {
   "cell_type": "markdown",
   "metadata": {},
   "source": [
    "\n",
    "##### Решение задачи будет суммой решений подзадач.  \n",
    "##### 1. Решим подзадачу 1:\n",
    "   $$V_1(x,t)=\\sum_{n=1}^\\infty \\left[ A_n\\cos\\left(\\frac{3\\pi n}{l}t\\right)+B_n\\sin\\left(\\frac{3\\pi n}{l}t\\right) \\right] \\sin\\left(\\frac{\\pi n}{l}x\\right)$$\n",
    "\n",
    "\n",
    "   $$A_n=\\frac{2}{l}\\int_0^l \\widetilde{\\phi}(x)\\sin\\left(\\frac{\\pi n}{l}x\\right)dx = \\frac{2}{l}\\int_0^l \\left(\\frac{3x}{l}-10\\right)\\sin\\left(\\frac{\\pi n}{l}x\\right)dx =\\frac{6}{l^2}\\int_0^l x\\sin\\left(\\frac{\\pi n}{l}x\\right)dx - \\frac{20}{l}\\int_0^l \\sin\\left(\\frac{\\pi n}{l}x\\right)dx =$$\n",
    "\n",
    "   ***Сноска по решению интеграла:***\n",
    "   $$ \\left[\\int_0^l \\sin\\left(\\frac{\\pi n}{l}x\\right)dx =  - \\frac{l}{\\pi n} (-1)^n +  \\frac{l}{\\pi n}\\right] $$\n",
    "   $$ \\left[\\int_0^l x\\sin\\left(\\frac{\\pi n}{l}x\\right)dx = - \\frac{l^2}{\\pi n} (-1)^n\\right] $$\n",
    "   ***Продолжаем решать***\n",
    "\n",
    "   $$= -\\frac{6}{\\pi n}(-1)^n + \\frac{20}{\\pi n}(-1)^n - \\frac{20}{\\pi n} = \\frac{1}{\\pi n}\\left(14\\cdot(-1)^n - 20\\right)$$\n",
    "\n",
    "\n",
    "   $$B_n=\\frac{2}{3\\pi n}\\int_0^l \\widetilde{\\psi}(x)\\sin\\left(\\frac{\\pi n}{l}x\\right)dx =\\frac{2}{3\\pi n}\\int_0^l \\left(-\\frac{9x}{l}\\right)\\sin\\left(\\frac{\\pi n}{l}x\\right)dx = -\\frac{18}{3\\pi nl} \\int_0^l x\\sin\\left(\\frac{\\pi n}{l}x\\right)dx =$$\n",
    "   \n",
    "   $$= \\frac{6l}{\\pi^2 n^2}(-1)^n$$\n"
   ]
  },
  {
   "cell_type": "markdown",
   "metadata": {},
   "source": [
    "\n",
    "##### 2. Теперь решим подзадачу 2:  \n",
    "   Представим решение в виде произведения:\n",
    "   $$V_2(x,t) = T(t)X(x) = \\sum_{n=1}^\\infty T_n(t) \\sin\\left(\\frac{\\pi n}{l}x\\right)$$\n",
    "   Представим функцию $f(x,t)$ в виде ряда Фурье по тригонометрической системе:\n",
    "   $$f(x,t) = \\sum_{n=1}^\\infty F_n(t) \\sin\\left(\\frac{\\pi n}{l}x\\right)$$\n",
    "   $$F_n(t) = \\frac{2}{l} \\int_0^l \\widetilde{f}(x,t) \\sin\\left(\\frac{\\pi n}{l}x\\right) dx = \\frac{2}{l} \\int_0^l \\left(1-\\frac{x}{l}\\right) \\left(-24t-4\\right) \\sin\\left(\\frac{\\pi n}{l}x\\right) dx =$$\n",
    "\n",
    "   $$= \\frac{-48t-8}{l} \\int_0^l \\left(1-\\frac{x}{l}\\right)\\sin\\left(\\frac{\\pi n}{l}x\\right) dx + \\frac{36t+6}{l^2} \\int_0^l x\\sin\\left(\\frac{\\pi n}{l}x\\right) dx=$$\n",
    "\n",
    "   $$= \\frac{-48t-8}{l} \\int_0^l \\sin\\left(\\frac{\\pi n}{l}x\\right)dx + \\frac{48t+8}{l^2} \\int_0^l x\\sin\\left(\\frac{\\pi n}{l}x\\right)dx =$$\n",
    "\n",
    "   $$= \\frac{-48t-8}{l} \\left(- \\frac{l}{\\pi n} (-1)^n +  \\frac{l}{\\pi n}\\right) + \\frac{48t+8}{l^2} \\left(- \\frac{l^2}{\\pi n} (-1)^n\\right) =$$\n",
    "\n",
    "   $$ \\frac{-48t-8}{\\pi n} + \\frac{-48t-8}{\\pi n}(-1)^n - \\frac{-48t-8}{\\pi n}(-1)^n = \\frac{-48t-8}{\\pi n}  $$\n",
    "\n",
    "   Найдем $T_n$:\n",
    "\n",
    "   $$T_n(t) = \\frac{l}{3\\pi n} \\int_0^t F_n(\\tau) \\sin\\left(\\frac{3\\pi n}{l}(t-\\tau)\\right) d\\tau = \\frac{l}{3\\pi n} \\int_0^t \\left( \\frac{-48t-8}{\\pi n} \\right) \\sin\\left(\\frac{3\\pi n}{l}(t-\\tau)\\right) d\\tau =$$\n",
    "\n",
    "   ***Сноска по решению интеграла:***\n",
    "   ##### $$ \\left[\\int_0^t \\tau \\sin\\left(\\frac{3\\pi n}{l}(t-\\tau)\\right)d\\tau =  \\frac{tl}{3\\pi n} - \\left(\\frac{l}{3\\pi n}\\right)^2 \\sin\\left(\\frac{3\\pi n}{l}(t-\\tau)\\right)\\right] $$\n",
    "   ##### $$ \\left[\\int_0^t \\sin\\left(\\frac{3\\pi n}{l}(t-\\tau)\\right)d\\tau =  \\left. \\frac{l}{3\\pi n} \\cos\\left(\\frac{3\\pi n}{l}(t-\\tau)\\right)\\right|_0^t = \\frac{l}{3\\pi n} \\left( 1 - \\cos\\left(\\frac{3\\pi n}{l}t\\right)\\right)\\right] $$\n",
    "   ***Продолжаем решать***\n",
    "\n",
    "   $$= \\frac{l}{3\\pi n} \\left[\\frac{48}{\\pi n}\\int_0^t \\tau \\sin\\left(\\frac{3\\pi n}{l}(t-\\tau)\\right) d\\tau + \\frac{8}{\\pi n} \\int_0^t \\sin\\left(\\frac{3\\pi n}{l}(t-\\tau)\\right) d\\tau \\right]=$$\n",
    "\n",
    "   $$= \\frac{l}{3\\pi n} \\left[\\frac{48}{\\pi n} \\left(\\frac{tl}{3\\pi n} - \\left(\\frac{l}{3\\pi n}\\right)^2 \\sin\\left(\\frac{3\\pi n}{l}(t-\\tau)\\right)\\right) + \\frac{8}{\\pi n} \\left(\\frac{l}{3\\pi n} \\left( 1 - \\cos\\left(\\frac{3\\pi n}{l}t\\right)\\right)\\right) \\right]=$$\n",
    "\n",
    "   $$= \\frac{16l}{\\pi^2 n^2}\\left[\\frac{tl}{3\\pi n} - \\left(\\frac{l}{3\\pi n}\\right)^2 \\sin\\left(\\frac{3\\pi n}{l}(t-\\tau)\\right)\\right] + \\frac{8 l^2}{9\\pi^3 n^3} \\left[ 1 - \\cos\\left(\\frac{3\\pi n}{l}t\\right)\\right]$$\n",
    "\n",
    "Подставим $T_n(t)$ в формулу для $V_2(x,t)$:\n",
    "$$V_2(x,t) = \\sum_{n=1}^\\infty \\left(\\frac{16l}{\\pi^2 n^2}\\left[\\frac{tl}{3\\pi n} - \\left(\\frac{l}{3\\pi n}\\right)^2 \\sin\\left(\\frac{3\\pi n}{l}(t-\\tau)\\right)\\right] + \\frac{8 l^2}{9\\pi^3 n^3} \\left[ 1 - \\cos\\left(\\frac{3\\pi n}{l}t\\right)\\right] \\right) \\sin\\left(\\frac{\\pi n}{l}x\\right)$$\n",
    "\n",
    "Тогда\n",
    "$$V(x,t) = V_1(x,t)+V_2(x,t) = \\sum_{n=1}^\\infty \\left[ A_n\\cos\\left(\\frac{3\\pi n}{l}t\\right)+B_n\\sin\\left(\\frac{3\\pi n}{l}t\\right) \\right] \\sin\\left(\\frac{\\pi n}{l}x\\right) +$$\n",
    "\n",
    "$$+\\sum_{n=1}^\\infty \\left(\\frac{16l}{\\pi^2 n^2}\\left[\\frac{tl}{3\\pi n} - \\left(\\frac{l}{3\\pi n}\\right)^2 \\sin\\left(\\frac{3\\pi n}{l}(t-\\tau)\\right)\\right] + \\frac{8 l^2}{9\\pi^3 n^3} \\left[ 1 - \\cos\\left(\\frac{3\\pi n}{l}t\\right)\\right] \\right) \\sin\\left(\\frac{\\pi n}{l}x\\right)$$\n",
    "\n",
    "\n",
    "$$A_n = \\frac{1}{\\pi n}\\left(14\\cdot(-1)^n - 20\\right)$$\n",
    "$$B_n= \\frac{6l}{\\pi^2 n^2}(-1)^n$$\n",
    "\n",
    "#### **Ответ:**\n",
    "$$U(x,t) = V(x,t)+W(x,t) = \\sum_{n=1}^\\infty \\left[ A_n\\cos\\left(\\frac{3\\pi n}{l}t\\right)+B_n\\sin\\left(\\frac{3\\pi n}{l}t\\right) \\right] \\sin\\left(\\frac{\\pi n}{l}x\\right) +$$\n",
    "\n",
    "$$+\\sum_{n=1}^\\infty \\left(\\frac{16l}{\\pi^2 n^2}\\left[\\frac{tl}{3\\pi n} - \\left(\\frac{l}{3\\pi n}\\right)^2 \\sin\\left(\\frac{3\\pi n}{l}(t-\\tau)\\right)\\right] + \\frac{8 l^2}{9\\pi^3 n^3} \\left[ 1 - \\cos\\left(\\frac{3\\pi n}{l}t\\right)\\right] \\right) \\sin\\left(\\frac{\\pi n}{l}x\\right) + $$\n",
    "$$+ 4t^3+2t^2+10 -\\frac{x}{l}(4t^3+2t^2-9t+3)$$\n",
    "\n",
    "$$A_n = \\frac{1}{\\pi n}\\left(14\\cdot(-1)^n - 20\\right)$$\n",
    "\n",
    "$$B_n= \\frac{6l}{\\pi^2 n^2}(-1)^n$$"
   ]
  },
  {
   "cell_type": "markdown",
   "metadata": {},
   "source": [
    "# Задание 4"
   ]
  },
  {
   "cell_type": "markdown",
   "metadata": {},
   "source": [
    "Найти решение задачи теплопроводности методом Фурье\n",
    "$$U_t=16U_{xx} + 9x^2 + 8x + 10$$\n",
    "$$\\begin{cases} U(x,0)=e^{x(l-x)}-1 \\\\\n",
    "U(0,t) = 0 \\\\\n",
    "U(l,t) = 0 \\end{cases}$$"
   ]
  },
  {
   "cell_type": "markdown",
   "metadata": {},
   "source": [
    "##### Перед нами неоднородное ДУЧП с неоднородным НУ и с однородными ГУ. Решение будем искать методом Фурье:  \n",
    "##### Собственные значения:  \n",
    "##### Разделим эту задачу на две подзадачи.   \n",
    "\n",
    "Подзадача 1:\n",
    "$$U_t=16U_{xx}$$\n",
    "$$\\begin{cases} U(x,0)=e^{x(l-x)}-1 \\\\\n",
    "U(0,t) = 0 \\\\\n",
    "U(l,t) = 0 \\end{cases}$$\n",
    "\n",
    "Подзадача 2:\n",
    "$$U_t=16U_{xx} + 9x^2 + 8x + 10$$\n",
    "$$\\begin{cases} U(x,0)=0 \\\\\n",
    "U(0,t) = 0 \\\\\n",
    "U(l,t) = 0 \\end{cases}$$\n",
    "Решение задачи будет суммой решений подзадач.  \n"
   ]
  },
  {
   "cell_type": "markdown",
   "metadata": {},
   "source": [
    "##### 1. Решим подзадачу 1:\n",
    "   $$U_1(x,t)=\\sum_{n=1}^\\infty A_n e^{-\\left(\\frac{4\\pi n}{l}\\right)^2t} \\sin\\left(\\frac{\\pi n}{l}x\\right)$$\n",
    "\n",
    "   $$A_n=\\frac{2}{l}\\int_0^l \\phi(\\xi)\\sin\\left(\\frac{\\pi n}{l}\\xi\\right)d\\xi = \\frac{2}{l}\\int_0^l \\left(9\\xi^2 + 8\\xi + 10\\right)\\sin\\left(\\frac{\\pi n}{l}\\xi\\right)d\\xi$$\n",
    "\n",
    "   $$ = \\frac{2}{l}\\left[9\\int_0^l \\xi^2\\sin\\left(\\frac{\\pi n}{l}\\xi\\right)d\\xi + 8\\int_0^l\\xi\\sin\\left(\\frac{\\pi n}{l}\\xi\\right)d\\xi + 10\\int_0^l\\sin\\left(\\frac{\\pi n}{l}\\xi\\right)d\\xi\\right] =$$\n",
    "\n",
    "   ***Сноска по решению интеграла:***\n",
    "   $$ \\left[\\int_0^l \\xi^2\\sin\\left(\\frac{\\pi n}{l}\\xi\\right)d\\xi =  - \\frac{l^3}{\\pi^3 n^3}\\left(\\pi^2 n^2 (-1)^n\\right)  + \\left(2 - 2\\cdot(-1)^n\\right) \\right] $$\n",
    "\n",
    "   $$ \\left[\\int_0^l \\xi\\sin\\left(\\frac{\\pi n}{l}\\xi\\right)d\\xi =  - \\frac{l^2}{\\pi n}(-1)^n\\right]$$\n",
    "\n",
    "   $$ \\left[\\int_0^l \\sin\\left(\\frac{\\pi n}{l}\\xi\\right)d\\xi =  - \\frac{l}{\\pi n}\\left((-1)^n - 1\\right)\\right]$$\n",
    "   ***Продолжаем решать***\n",
    "\n",
    "   $$ =  - \\frac{\\left(36 - 36(-1)^n\\right) + \\left(16\\pi^2(-1)^n l+\\pi^2\\left(20(-1)^n-20\\right) + 18\\pi^2 l^2 (-1)^n\\right)n^2}{\\pi^3 n^3}$$"
   ]
  },
  {
   "cell_type": "markdown",
   "metadata": {},
   "source": [
    "##### 2. Теперь решим подзадачу 2:  \n",
    "   Представим решение в виде произведения:\n",
    "   $$U_2(x,t) = T(t)X(x) = \\sum_{n=1}^\\infty T_n(t) \\sin\\left(\\frac{\\pi n}{l}x\\right)$$\n",
    "   Представим функцию $f(x,t)$ в виде ряда Фурье по тригонометрической системе:\n",
    "   $$f(x,t) = \\sum_{n=1}^\\infty F_n(t) \\sin\\left(\\frac{\\pi n}{l}x\\right)$$\n",
    "   $$F_n(t) = \\frac{2}{l} \\int_0^l f(\\xi,t) \\sin\\left(\\frac{\\pi n}{l}\\xi\\right) d\\xi = \\frac{2}{l}\\int_0^l \\left(9\\xi^2 + 8\\xi + 10\\right)\\sin\\left(\\frac{\\pi n}{l}\\xi\\right)d\\xi$$\n",
    "\n",
    "   $$ = \\frac{2}{l}\\left[9\\int_0^l \\xi^2\\sin\\left(\\frac{\\pi n}{l}\\xi\\right)d\\xi + 8\\int_0^l\\xi\\sin\\left(\\frac{\\pi n}{l}\\xi\\right)d\\xi + 10\\int_0^l\\sin\\left(\\frac{\\pi n}{l}\\xi\\right)d\\xi\\right] =$$\n",
    "\n",
    "   ***Сноска по решению интеграла:***\n",
    "   $$ \\left[\\int_0^l \\xi^2\\sin\\left(\\frac{\\pi n}{l}\\xi\\right)d\\xi =  - \\frac{l^3}{\\pi^3 n^3}\\left(\\pi^2 n^2 (-1)^n\\right)  + \\left(2 - 2\\cdot(-1)^n\\right) \\right] $$\n",
    "\n",
    "   $$ \\left[\\int_0^l \\xi\\sin\\left(\\frac{\\pi n}{l}\\xi\\right)d\\xi =  - \\frac{l^2}{\\pi n}(-1)^n\\right]$$\n",
    "\n",
    "   $$ \\left[\\int_0^l \\sin\\left(\\frac{\\pi n}{l}\\xi\\right)d\\xi =  - \\frac{l}{\\pi n}\\left((-1)^n - 1\\right)\\right]$$\n",
    "   ***Продолжаем решать***\n",
    "\n",
    "   $$ =  - \\frac{\\left(36 - 36(-1)^n\\right) + \\left(16\\pi^2(-1)^n l+\\pi^2\\left(20(-1)^n-20\\right) + 18\\pi^2 l^2 (-1)^n\\right)n^2}{\\pi^3 n^3}$$"
   ]
  },
  {
   "cell_type": "markdown",
   "metadata": {},
   "source": [
    "##### Найдем $T_n$:\n",
    "   $$T_n(t) = \\frac{l}{4\\pi n} \\int_0^t F_n(\\tau) \\sin\\left(\\frac{4\\pi n}{l}(t-\\tau)\\right) d\\tau =$$\n",
    "   $$ = \\frac{l}{4\\pi n} \\int_0^t \\left[ - \\frac{\\left(36 - 36(-1)^n\\right) + \\left(16\\pi^2(-1)^n l+\\pi^2\\left(20(-1)^n-20\\right) + 18\\pi^2 l^2 (-1)^n\\right)n^2}{\\pi^3 n^3}\\right] \\sin\\left(\\frac{4\\pi n}{l}(t-\\tau)\\right) d\\tau =$$\n",
    "   \n",
    "   $$ = \\left. \\frac{l}{4\\pi n} \\left[ - \\frac{\\left(36 - 36(-1)^n\\right) + \\left(16\\pi^2(-1)^n l+\\pi^2\\left(20(-1)^n-20\\right) + 18\\pi^2 l^2 (-1)^n\\right)n^2}{\\pi^3 n^3} \\right] \\frac{l}{4\\pi n} \\cos\\left(\\frac{4\\pi n}{l}(t-\\tau)\\right) \\right|_0^t =$$\n",
    "   $$ = \\frac{l^2}{16\\pi^2 n^2} \\left[ - \\frac{\\left(36 - 36(-1)^n\\right) + \\left(16\\pi^2(-1)^n l+\\pi^2\\left(20(-1)^n-20\\right) + 18\\pi^2 l^2 (-1)^n\\right)n^2}{\\pi^3 n^3} \\right] \\left[1 - \\cos\\left(\\frac{4\\pi n}{l}t\\right)\\right]$$"
   ]
  },
  {
   "cell_type": "markdown",
   "metadata": {},
   "source": [
    "#### **Ответ:**\n",
    "$$U(x,t)=U_1(x,t)+U_2(x,t) = $$\n",
    "$$ = \\sum_{n=1}^\\infty A_n\\sin\\left(\\frac{\\pi n}{l}x\\right) e^{-\\left(\\frac{4\\pi n}{l}t\\right)} + \\sum_{n=1}^\\infty \\frac{l^2}{16\\pi^2 n^2} \\left[ - \\frac{\\left(36 - 36(-1)^n\\right) + \\left(16\\pi^2(-1)^n l+\\pi^2\\left(20(-1)^n-20\\right) + 18\\pi^2 l^2 (-1)^n\\right)n^2}{\\pi^3 n^3} \\right] \\left[1 - \\cos\\left(\\frac{4\\pi n}{l}t\\right)\\right] \\sin\\left(\\frac{\\pi n}{l}x\\right)$$\n",
    "$$A_n = -\\frac{\\sqrt{\\pi}}{2l} \\cdot Re \\left[ i\\left(-1+e^{i\\pi n}\\right)e^{\\frac{(l^2-i\\pi n)^2}{4l^2}} \\left( erf\\left(\\frac{l^2-i\\pi n}{2l}\\right) + erf\\left(\\frac{l^2+i\\pi n}{2l}\\right) \\right) \\right] + \\left(\\frac{2}{\\pi n}\\right)(-1)^n - \\left(\\frac{2}{\\pi n}\\right)$$"
   ]
  }
 ],
 "metadata": {
  "kernelspec": {
   "display_name": "usr",
   "language": "python",
   "name": "python3"
  },
  "language_info": {
   "codemirror_mode": {
    "name": "ipython",
    "version": 3
   },
   "file_extension": ".py",
   "mimetype": "text/x-python",
   "name": "python",
   "nbconvert_exporter": "python",
   "pygments_lexer": "ipython3",
   "version": "3.12.3"
  }
 },
 "nbformat": 4,
 "nbformat_minor": 2
}
