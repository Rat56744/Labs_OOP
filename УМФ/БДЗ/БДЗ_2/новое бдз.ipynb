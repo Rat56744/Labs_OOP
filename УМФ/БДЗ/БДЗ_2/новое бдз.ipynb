{
 "cells": [
  {
   "cell_type": "markdown",
   "id": "d343a164-b8cb-450f-8cb7-a0462f79435c",
   "metadata": {
    "id": "d343a164-b8cb-450f-8cb7-a0462f79435c"
   },
   "source": [
    "# **Большое домашнее задание №2 по дисциплине \"Уравнения математической физики\"**\n",
    "---\n",
    "**Выполнил:** Ткаченко Иван Викторович (ПМ-32) (ivantkachenko938@gmail.com)  \n",
    "**Преподаватель:** Гурьянов М.А., кафедра ВМ-1  \n",
    "Вариант № 19  \n",
    "1 семестр, 2024 год  \n",
    "МИЭТ, Зеленоград"
   ]
  },
  {
   "cell_type": "markdown",
   "id": "209107bd-e0fa-411f-aec4-c2c37cd4d225",
   "metadata": {
    "id": "209107bd-e0fa-411f-aec4-c2c37cd4d225"
   },
   "source": [
    "**Задание 1.** Найти решение на бесконечной струне методом Даламбера\n",
    "$$U_{tt}=16U_{xx}+4x$$\n",
    "$$\\begin{cases} U(x,0)=x+\\sin\\left(\\frac{2\\pi x}{l}\\right) \\\\\n",
    "U_t(x,0) = \\sin\\left(\\frac{4\\pi x}{l}\\right) \\end{cases}$$"
   ]
  },
  {
   "cell_type": "markdown",
   "id": "7cc6efcb-e07a-4040-be13-7a0928c4ac62",
   "metadata": {
    "id": "7cc6efcb-e07a-4040-be13-7a0928c4ac62"
   },
   "source": [
    "**Решение:** Перед нами неоднородное ДУЧП с ненулевыми НУ. Решение будем искать методом Даламбера:\n",
    "$$U = \\frac{\\phi(x+ct)+\\phi(x-ct)}{2} + \\frac{1}{2c}\\int_{x-ct}^{x+ct}\\psi(\\xi)d\\xi + \\frac{1}{2c}\\int_0^t\\int_{x-c(t-\\tau)}^{x+c(t-\\tau)} f(\\xi, \\tau)d\\xi d\\tau$$\n",
    "Дано:  \n",
    "$$c = 4$$\n",
    "$$\\phi(x) = x+\\sin\\left(\\frac{2\\pi x}{l}\\right)$$\n",
    "$$\\psi(x) = \\sin\\left(\\frac{4\\pi x}{l}\\right)$$\n",
    "$$f(x,t) = 4x$$\n",
    "Подставим в формулу для U:\n",
    "$$U = \\frac{x+4t+\\sin\\left(\\frac{2\\pi x}{l} + \\frac{8\\pi t}{l}\\right)+x-4t+\\sin\\left(\\frac{2\\pi x}{l} - \\frac{8\\pi t}{l}\\right)}{2} + \\frac{1}{8}\\int_{x-4t}^{x+4t}\\sin\\left(\\frac{4\\pi \\xi}{l}\\right)d\\xi + \\frac{1}{8}\\int_0^t\\int_{x-4(t-\\tau)}^{x+4(t-\\tau)} 4\\xi d\\xi d\\tau$$\n",
    "Упрощаем:\n",
    "$$U = x + \\sin\\left(\\frac{2\\pi x}{l}\\right)\\cos\\left(\\frac{8\\pi t}{l}\\right) + \\frac{l}{16\\pi}\\sin\\left(\\frac{4\\pi x}{l}\\right)\\sin\\left(\\frac{16\\pi t}{l}\\right)+2xt^2$$\n",
    "**Ответ:**\n",
    "$$U = x + \\sin\\left(\\frac{2\\pi x}{l}\\right)\\cos\\left(\\frac{8\\pi t}{l}\\right) + \\frac{l}{16\\pi}\\sin\\left(\\frac{4\\pi x}{l}\\right)\\sin\\left(\\frac{16\\pi t}{l}\\right)+2xt^2$$"
   ]
  },
  {
   "cell_type": "markdown",
   "id": "1b9d980d-7776-495e-8fd0-801bbde999dd",
   "metadata": {
    "id": "1b9d980d-7776-495e-8fd0-801bbde999dd"
   },
   "source": [
    "**Задание 2.** Найти решение краевой задачи колебвний струны\n",
    "$$U_{tt}=9U_{xx}+x^3(-l+x)$$\n",
    "$$\\begin{cases} U(x,0)=0 \\\\\n",
    "U_t(x,0) = 0 \\\\\n",
    "U_x(0,t) = 0 \\\\\n",
    "U_x(l,t) = 0 \\end{cases}$$"
   ]
  },
  {
   "cell_type": "markdown",
   "id": "e74ca085-da52-4a98-88ee-f80eaf84ccbf",
   "metadata": {
    "id": "e74ca085-da52-4a98-88ee-f80eaf84ccbf"
   },
   "source": [
    "**Решение:** Перед нами неоднородное ДУЧП с однородными НУ и со смешанными однородными ГУ. Т.е. пред нами подзадача 2 метода Фурье. Решение будем искать методом Штурма-Леувилля:  \n",
    "Собственные значения:\n",
    "$$\\lambda_n = \\left(\\frac{\\pi n}{l}\\right)^2, \\;\\;\\;\\; n \\in N$$\n",
    "Собственные функции:\n",
    "$$X_n(x)=\\cos\\left(\\frac{\\pi n}{l}x\\right)$$\n",
    "Представим решение в виде произведения:\n",
    "$$U(x,t) = T(t)X(x) = \\sum_{n=1}^\\infty T_n(t) \\cos\\left(\\frac{\\pi n}{l}x\\right)$$\n",
    "Представим функцию $f(x,t)$ в виде ряда Фурье по тригонометрической системе:  \n",
    "$$f(x,t) = \\sum_{n=1}^\\infty F_n(t) \\cos\\left(\\frac{\\pi n}{l}x\\right)$$\n",
    "$$F_n(t) = \\frac{2}{l} \\int_0^l f(x,t) \\cos\\left(\\frac{\\pi n}{l}x\\right) dx$$\n",
    "$$F_n(t) = \\frac{2}{l} \\int_0^l x^3(-l+x) \\cos\\left(\\frac{\\pi n}{l}x\\right) dx = -2 \\int_0^l x^3 \\cos\\left(\\frac{\\pi n}{l}x\\right) dx + \\frac{2}{l} \\int_0^l x^4 \\cos\\left(\\frac{\\pi n}{l}x\\right)dx =$$\n",
    "$$= \\left. -2 \\left[ 6 \\left(\\frac{l}{\\pi n}\\right)^4 \\cos\\left(\\frac{\\pi nx}{l}\\right) -6x \\left(\\frac{l}{\\pi n}\\right)^3 \\sin\\left(\\frac{\\pi nx}{l}\\right) -3x^2 \\left(\\frac{l}{\\pi n}\\right)^2 \\cos\\left(\\frac{\\pi nx}{l} \\right) +x^3 \\left(\\frac{l}{\\pi n}\\right) \\sin\\left(\\frac{\\pi nx}{l} \\right) \\right]\\right|_0^l + $$\n",
    "$$\\left. +\\frac{2}{l}\\left[ 24 \\left(\\frac{l}{\\pi n}\\right)^5 \\sin\\left(\\frac{\\pi nx}{l}\\right) +24x \\left(\\frac{l}{\\pi n}\\right)^4 \\cos\\left(\\frac{\\pi nx}{l}\\right) -12x^2 \\left(\\frac{l}{\\pi n}\\right)^3 \\sin\\left(\\frac{\\pi nx}{l}\\right) -4x^3 \\left(\\frac{l}{\\pi n}\\right)^2 \\cos\\left(\\frac{\\pi nx}{l} \\right) +x^4 \\left(\\frac{l}{\\pi n}\\right) \\sin\\left(\\frac{\\pi nx}{l} \\right) \\right] \\right|_0^l =$$\n",
    "$$= -2\\left[ 6\\left(\\frac{l}{\\pi n}\\right)^4(-1)^n - 3l^2\\left(\\frac{l}{\\pi n}\\right)^2(-1)^n - 6\\left(\\frac{l}{\\pi n}\\right)^4 \\right] +\\frac{2}{l}\\left[ 24l\\left(\\frac{l}{\\pi n}\\right)^4(-1)^n - 4l^3\\left(\\frac{l}{\\pi n}\\right)^2(-1)^n\\right]=$$\n",
    "$$=\\left(\\frac{l}{\\pi n}\\right)^4(36 \\cdot (-1)^{n}+12) - l^2 \\left(\\frac{l}{\\pi n}\\right)^2 2 \\cdot (-1)^n$$\n",
    "Найдем $T_n$:\n",
    "$$T_n(t) = \\frac{l}{3\\pi n} \\int_0^t F_n(\\tau) \\sin\\left(\\frac{3\\pi n}{l}(t-\\tau)\\right)d\\tau = \\frac{l}{3\\pi n} \\int_0^t \\left[ \\left(\\frac{l}{\\pi n}\\right)^4(36 \\cdot (-1)^{n}+12) - l^2 \\left(\\frac{l}{\\pi n}\\right)^2 2 \\cdot (-1)^n \\right] \\sin\\left(\\frac{3\\pi n}{l}(t-\\tau)\\right)d\\tau =$$\n",
    "\n",
    "$$= \\left. \\left[ \\left(\\frac{l}{\\pi n}\\right)^6(12 \\cdot (-1)^{n}+4) - l^2 \\left(\\frac{l}{\\pi n}\\right)^4 \\frac{2}{3} \\cdot (-1)^n \\right] \\cos\\left( \\frac{3\\pi n}{l}(t-\\tau) \\right) \\right|_0^t = \\left[ \\left(\\frac{l}{\\pi n}\\right)^6(12 \\cdot (-1)^{n}+4) - l^2 \\left(\\frac{l}{\\pi n}\\right)^4 \\frac{2}{3} \\cdot (-1)^n \\right] \\cdot \\left[ 1-\\cos\\left( \\frac{3\\pi nt}{l} \\right)  \\right]$$\n",
    "\n",
    "Подставим $T_n(t)$ в формулу для $U(x,t)$:\n",
    "\n",
    "$$U(x,t) = \\sum_{n=1}^\\infty \\left[ \\left(\\frac{l}{\\pi n}\\right)^6(12 \\cdot (-1)^{n}+4) - l^2 \\left(\\frac{l}{\\pi n}\\right)^4 \\frac{2}{3} \\cdot (-1)^n \\right] \\cdot \\left[ 1-\\cos\\left( \\frac{3\\pi nt}{l} \\right)  \\right] \\cos\\left(\\frac{\\pi n}{l}x\\right)$$\n",
    "\n",
    "**Ответ:**\n",
    "$$U(x,t) = \\sum_{n=1}^\\infty \\left[ \\left(\\frac{l}{\\pi n}\\right)^6(12 \\cdot (-1)^{n}+4) - l^2 \\left(\\frac{l}{\\pi n}\\right)^4 \\frac{2}{3} \\cdot (-1)^n\\right] \\cdot \\left[ 1-\\cos\\left( \\frac{3\\pi nt}{l} \\right)  \\right] \\cos\\left(\\frac{\\pi n}{l}x\\right)$$"
   ]
  },
  {
   "cell_type": "markdown",
   "id": "68a415e7-6535-4b9e-a43e-84b6edbc3fc8",
   "metadata": {
    "id": "68a415e7-6535-4b9e-a43e-84b6edbc3fc8"
   },
   "source": [
    "**Задание 3.** Найти решение краевой задачи колебаний струны\n",
    "$$U_{tt}=9U_{xx}$$\n",
    "$$\\begin{cases} U(x,0)=0 \\\\\n",
    "U_t(x,0) = 0 \\\\\n",
    "U(0,t) = 6t^3+3t^2+6t+2 \\\\\n",
    "U(l,t) = t+4 \\end{cases}$$"
   ]
  },
  {
   "cell_type": "markdown",
   "id": "2b63db25-f14a-4947-8c86-2e952f59e8b5",
   "metadata": {
    "id": "2b63db25-f14a-4947-8c86-2e952f59e8b5"
   },
   "source": [
    "**Решение:** Перед нами однородное ДУЧП с однородными НУ и с неоднородными ГУ. Т.е. пред нами подзадача 3 метода Фурье. Решение будем искать методом Фурье:   \n",
    "Избавимся от ненулевых ГУ. Для этого представим решение в виде суммы:\n",
    "$$U(x,t)=V(x,t)+W(x,t)$$\n",
    ",где $W(x,t)=\\mu(t)+\\frac{x}{l}(\\nu(t)-\\mu(t))=6t^3+3t^2+6t+2-\\frac{x}{l}(6t^3+3t^2+5t-2)$.  \n",
    "Будем искать решение вокруг прямой $W(x,t)$. Перепишем ДУЧП в новой системе координат:\n",
    "$$V_{tt}=9V_{xx}+\\widetilde{f}(x,t)$$\n",
    "$$\\begin{cases} V(x,0)=\\widetilde{\\phi}(x) \\\\\n",
    "V_t(x,0) = \\widetilde{\\psi}(x) \\\\\n",
    "V(0,t) = 0 \\\\\n",
    "V(l,t) = 0 \\end{cases}$$\n",
    ",где $\\widetilde{f}(x,t)=-\\mu''-\\frac{x}{l}(\\nu''-\\mu'')=-36t +\\frac{36xt}{l}+\\frac{6x}{l}-6 $,  \n",
    "$\\widetilde{\\phi}(x)=-\\mu(0)-\\frac{x}{l}(\\nu(0)-\\mu(0))=-2 \\left(1+\\frac{x}{l} \\right)$ и  \n",
    "$\\widetilde{\\psi}(x)=-\\mu'(0)-\\frac{x}{l}(\\nu'(0)-\\mu'(0))=-6+\\frac{5x}{l}$.  \n",
    "Разделим эту задачу на две подзадачи. Подзадача 1:\n",
    "$$V_{tt}=9V_{xx}$$\n",
    "$$\\begin{cases} V(x,0)=-2 \\left(1+\\frac{x}{l} \\right)$ \\\\\n",
    "V_t(x,0) = -6+\\frac{5x}{l} \\\\\n",
    "V(0,t) = 0 \\\\\n",
    "V(l,t) = 0 \\end{cases}$$\n",
    "Подзадача 2:\n",
    "$$V_{tt}=9V_{xx}+(1-\\frac{x}{l})(-36t-6)$$\n",
    "$$\\begin{cases} V(x,0)=0 \\\\\n",
    "V_t(x,0) = 0 \\\\\n",
    "V(0,t) = 0 \\\\\n",
    "V(l,t) = 0 \\end{cases}$$\n",
    "Решение задачи будет суммой решений подзадач.  \n",
    "1. Решим подзадачу 1:\n",
    "   $$V_1(x,t)=\\sum_{n=1}^\\infty \\left[ A_n\\cos\\left(\\frac{3\\pi n}{l}t\\right)+B_n\\sin\\left(\\frac{3\\pi n}{l}t\\right) \\right] \\sin\\left(\\frac{\\pi n}{l}x\\right)$$\n",
    "   $$A_n=\\frac{2}{l}\\int_0^l \\widetilde{\\phi}(x)\\sin\\left(\\frac{\\pi n}{l}x\\right)dx = \\frac{2}{l}\\int_0^l -2 \\left(1+\\frac{x}{l} \\right)\\sin\\left(\\frac{\\pi n}{l}x\\right)dx = \\frac{-4}{l}\\int_0^t \\sin\\left(\\frac{\\pi n}{l}x\\right)dx + \\frac{2}{l^2}\\int_0^t x\\sin\\left(\\frac{\\pi n}{l}x\\right)dx =$$\n",
    "   $$= \\left. \\frac{4}{l} \\cdot \\frac{l}{\\pi n} \\cos\\left(\\frac{\\pi n}{l}x\\right) \\right|_0^l + \\left. \\frac{2}{l^2}\\left[\\left(\\frac{l}{\\pi n}\\right)^2\\sin\\left(\\frac{\\pi n}{l}x\\right) -x\\left(\\frac{l}{\\pi n}\\right)\\cos\\left(\\frac{\\pi n}{l}x\\right) \\right] \\right|_0^l =$$\n",
    "   $$= \\frac{4}{\\pi n}(-1)^n - \\frac{4}{\\pi n} - \\frac{2}{\\pi n}(-1)^n = \\frac{2}{\\pi n} \\left( (-1)^n - 2 \\right)$$\n",
    "\n",
    "    $$B_n=\\frac{2}{3\\pi n}\\int_0^l \\widetilde{\\psi}(x)\\sin\\left(\\frac{\\pi n}{l}x\\right)dx = \\frac{2}{3\\pi n}\\int_0^l \\left(-6+\\frac{5x}{l}\\right)\\sin\\left(\\frac{\\pi n}{l}x\\right)dx = \\frac{-4}{\\pi n} \\int_0^t\\sin\\left(\\frac{\\pi n}{l}x\\right)dx + \\frac{10}{3\\pi nl}\\int_0^t x\\sin\\left(\\frac{\\pi n}{l}x\\right)dx =$$\n",
    "   $$= \\left. \\frac{4}{\\pi n} \\cdot \\frac{l}{\\pi n} \\cos\\left(\\frac{\\pi n}{l}x\\right) \\right|_0^l + \\left. \\frac{10}{3\\pi nl} \\left[ \\left(\\frac{l}{\\pi n}\\right)^2\\sin\\left(\\frac{\\pi n}{l}x\\right)-x\\left(\\frac{l}{\\pi n}\\right)\\cos\\left(\\frac{\\pi n}{l}x\\right) \\right] \\right|_0^l =$$\n",
    "   $$= \\frac{4l}{\\pi^2 n^2}(-1)^n - \\frac{4l}{\\pi^2 n^2} - \\frac{10l}{3\\pi^2 n^2}(-1)^n = \\frac{l}{\\pi^2 n^2} \\left( \\frac{2}{3}(-1)^n -1 \\right) $$\n",
    "\n",
    "2. Теперь решим подзадачу 2:  \n",
    "   Представим решение в виде произведения:\n",
    "   $$V_2(x,t) = T(t)X(x) = \\sum_{n=1}^\\infty T_n(t) \\sin\\left(\\frac{\\pi n}{l}x\\right)$$\n",
    "   Представим функцию $f(x,t)$ в виде ряда Фурье по тригонометрической системе:\n",
    "   $$f(x,t) = \\sum_{n=1}^\\infty F_n(t) \\sin\\left(\\frac{\\pi n}{l}x\\right)$$\n",
    "   $$F_n(t) = \\frac{2}{l} \\int_0^l \\widetilde{f}(x,t) \\sin\\left(\\frac{\\pi n}{l}x\\right) dx = \\frac{2}{l} \\int_0^l \\left(-36t +\\frac{36xt}{l}+\\frac{6x}{l}-6\\right) \\sin\\left(\\frac{\\pi n}{l}x\\right) dx = \\frac{-72t-12}{l} \\int_0^l \\sin\\left(\\frac{\\pi n}{l}x\\right) dx + \\frac{36t+6}{l^2} \\int_0^l x\\sin\\left(\\frac{\\pi n}{l}x\\right) dx=$$\n",
    "   $$= \\left. \\frac{72t+12}{l}\\cos\\left(\\frac{\\pi n}{l}x\\right) \\right|_0^l + \\left. \\frac{36t+6}{l^2}\\left[ \\left(\\frac{l}{\\pi n}\\right)^2\\sin\\left(\\frac{\\pi n}{l}x\\right)-x\\left(\\frac{l}{\\pi n}\\right)\\cos\\left(\\frac{\\pi n}{l}x\\right) \\right] \\right|_0^l=$$\n",
    "   $$= \\frac{72t+12}{l} \\cdot ((-1)^n-1) + \\frac{36t+6}{l^2} \\cdot l\\left(\\frac{l}{\\pi n}\\right)(-1)^{n+1} = \\frac{72t+12}{l} \\cdot ((-1)^n-1) + \\frac{36t+6}{\\pi n} \\cdot (-1)^{n+1}$$\n",
    "   Найдем $T_n$:\n",
    "   $$T_n(t) = \\frac{l}{3\\pi n} \\int_0^t F_n(\\tau) \\sin\\left(\\frac{3\\pi n}{l}(t-\\tau)\\right) d\\tau = \\frac{l}{3\\pi n} \\int_0^t \\left[ \\frac{72\\tau+12}{l} \\cdot ((-1)^n-1) + \\frac{36\\tau+6}{\\pi n} \\cdot (-1)^{n+1} \\right] \\sin\\left(\\frac{3\\pi n}{l}(t-\\tau)\\right) d\\tau =$$\n",
    "   $$= \\frac{l}{3\\pi n} \\cdot \\left(\\frac{72}{l}\\cdot ((-1)^n-1) + \\frac{36}{\\pi n} \\cdot (-1)^{n+1} \\right) \\int_0^t \\tau  \\sin\\left(\\frac{3\\pi n}{l}(t-\\tau)\\right) d\\tau + \\frac{l}{3\\pi n} \\cdot \\left(\\frac{12}{l}\\cdot ((-1)^n-1) + \\frac{6}{\\pi n} \\cdot (-1)^{n+1} \\right) \\int_0^t \\sin\\left(\\frac{3\\pi n}{l}(t-\\tau)\\right) d\\tau =$$\n",
    "   $$= \\left. \\left(\\frac{24}{\\pi n}\\cdot ((-1)^n-1) + \\frac{12l}{\\pi^2 n^2} \\cdot (-1)^{n+1} \\right) \\left[\\left(\\frac{l}{3\\pi n}\\right)^2\\sin\\left(\\frac{3\\pi n}{l}(t-\\tau)\\right)\n",
    "+\\tau\\left(\\frac{l}{3\\pi n}\\right)\\cos\\left(\\frac{3\\pi n}{l}(t-\\tau)\\right) \\right] \\right|_0^t + \\left. \\left(\\frac{4}{\\pi n}\\cdot ((-1)^n-1) + \\frac{2l}{\\pi^2 n^2} \\cdot (-1)^{n+1} \\right) \\cos\\left(\\frac{3\\pi n}{l}(t-\\tau)\\right) \\right|_0^t =$$\n",
    "   $$= \\left(\\frac{24}{\\pi n}\\cdot ((-1)^n-1) + \\frac{12l}{\\pi^2 n^2} \\cdot (-1)^{n+1} \\right) \\left[t\\left(\\frac{l}{3\\pi n}\\right) - \\left(\\frac{l}{3\\pi n}\\right)^2\\sin\\left(\\frac{3\\pi n}{l}t\\right)  \\right] + \\left(\\frac{4}{\\pi n}\\cdot ((-1)^n-1) + \\frac{2l}{\\pi^2 n^2} \\cdot (-1)^{n+1} \\right) \\left[ 1 - \\cos\\left(\\frac{3\\pi n}{l}t\\right) \\right] =$$\n",
    "   $$= \\left(\\frac{24}{\\pi n}\\cdot ((-1)^n-1) + \\frac{12l}{\\pi^2 n^2} \\cdot (-1)^{n+1} \\right) \\left[ t\\left(\\frac{l}{3\\pi n}\\right) - \\left(\\frac{l}{3\\pi n}\\right)^2\\sin\\left(\\frac{3\\pi n}{l}t\\right) + \\frac{1}{6} - \\frac{1}{6}\\cos\\left(\\frac{3\\pi n}{l}t\\right) \\right]$$\n",
    "   Подставим $T_n(t)$ в формулу для $V_2(x,t)$:\n",
    "   $$V_2(x,t) = \\sum_{n=1}^\\infty \\left(\\frac{24}{\\pi n}\\cdot ((-1)^n-1) + \\frac{12l}{\\pi^2 n^2} \\cdot (-1)^{n+1} \\right) \\left[ t\\left(\\frac{l}{3\\pi n}\\right) - \\left(\\frac{l}{3\\pi n}\\right)^2\\sin\\left(\\frac{3\\pi n}{l}t\\right) + \\frac{1}{6} - \\frac{1}{6}\\cos\\left(\\frac{3\\pi n}{l}t\\right) \\right] \\sin\\left(\\frac{\\pi n}{l}x\\right)$$\n",
    "Тогда\n",
    "$$V(x,t) = V_1(x,t)+V_2(x,t) = \\sum_{n=1}^\\infty \\left[ A_n\\cos\\left(\\frac{3\\pi n}{l}t\\right)+B_n\\sin\\left(\\frac{3\\pi n}{l}t\\right) \\right] \\sin\\left(\\frac{\\pi n}{l}x\\right) +$$\n",
    "$$+ \\sum_{n=1}^\\infty \\left(\\frac{24}{\\pi n}\\cdot ((-1)^n-1) + \\frac{12l}{\\pi^2 n^2} \\cdot (-1)^{n+1} \\right) \\left[ t\\left(\\frac{l}{3\\pi n}\\right) - \\left(\\frac{l}{3\\pi n}\\right)^2\\sin\\left(\\frac{3\\pi n}{l}t\\right) + \\frac{1}{6} - \\frac{1}{6}\\cos\\left(\\frac{3\\pi n}{l}t\\right) \\right] \\sin\\left(\\frac{\\pi n}{l}x\\right)$$\n",
    "$$A_n = \\frac{2}{\\pi n} \\left( (-1)^n - 2 \\right)$$\n",
    "$$B_n= \\frac{l}{\\pi^2 n^2} \\left( \\frac{2}{3}(-1)^n -1 \\right)$$\n",
    "**Ответ:**\n",
    "$$U(x,t) = V(x,t)+W(x,t) = \\sum_{n=1}^\\infty \\left[ A_n\\cos\\left(\\frac{3\\pi n}{l}t\\right)+B_n\\sin\\left(\\frac{3\\pi n}{l}t\\right) \\right] \\sin\\left(\\frac{\\pi n}{l}x\\right) +$$\n",
    "$$+ \\sum_{n=1}^\\infty \\left(\\frac{24}{\\pi n}\\cdot ((-1)^n-1) + \\frac{12l}{\\pi^2 n^2} \\cdot (-1)^{n+1} \\right) \\left[ t\\left(\\frac{l}{3\\pi n}\\right) - \\left(\\frac{l}{3\\pi n}\\right)^2\\sin\\left(\\frac{3\\pi n}{l}t\\right) + \\frac{1}{6} - \\frac{1}{6}\\cos\\left(\\frac{3\\pi n}{l}t\\right) \\right] \\sin\\left(\\frac{\\pi n}{l}x\\right) + $$\n",
    "$$+ 6t^3+3t^2+6t+2-\\frac{x}{l}(6t^3+3t^2+5t-2)$$\n",
    "$$A_n = \\frac{2}{\\pi n} \\left( (-1)^n - 2 \\right)$$\n",
    "$$B_n= \\frac{l}{\\pi^2 n^2} \\left( \\frac{2}{3}(-1)^n -1 \\right)$$"
   ]
  },
  {
   "cell_type": "markdown",
   "id": "3e8b18d3-5d4f-4e1f-8cdc-3e1c2f405fca",
   "metadata": {
    "id": "3e8b18d3-5d4f-4e1f-8cdc-3e1c2f405fca"
   },
   "source": [
    "**Задание 4.** Найти решение задачи теплопроводности методом Фурье\n",
    "$$U_t=16U_{xx}+e^{x}$$\n",
    "$$\\begin{cases} U(x,0)=e^{x(l-x)}-1 \\\\\n",
    "U(0,t) = 0 \\\\\n",
    "U(l,t) = 0 \\end{cases}$$"
   ]
  },
  {
   "cell_type": "markdown",
   "id": "c606c619-a72d-48db-9698-de013bc1b06e",
   "metadata": {
    "id": "c606c619-a72d-48db-9698-de013bc1b06e"
   },
   "source": [
    "**Решение:** Перед нами неоднородное ДУЧП с неоднородным НУ и с однородными ГУ. Решение будем искать методом Фурье:  \n",
    "Собственные значения:  \n",
    "Разделим эту задачу на две подзадачи. Подзадача 1:\n",
    "$$U_t=16U_{xx}$$\n",
    "$$\\begin{cases} U(x,0)=e^{x(l-x)}-1 \\\\\n",
    "U(0,t) = 0 \\\\\n",
    "U(l,t) = 0 \\end{cases}$$\n",
    "Подзадача 2:\n",
    "$$U_t=16U_{xx}+e^{x}$$\n",
    "$$\\begin{cases} U(x,0)=0 \\\\\n",
    "U(0,t) = 0 \\\\\n",
    "U(l,t) = 0 \\end{cases}$$\n",
    "Решение задачи будет суммой решений подзадач.  \n",
    "1. Решим подзадачу 1:\n",
    "   $$U_1(x,t)=\\sum_{n=1}^\\infty A_n e^{-\\left(\\frac{4\\pi n}{l}\\right)^2t} \\sin\\left(\\frac{\\pi n}{l}x\\right)$$\n",
    "   $$A_n=\\frac{2}{l}\\int_0^l \\phi(\\xi)\\sin\\left(\\frac{\\pi n}{l}\\xi\\right)d\\xi = \\frac{2}{l}\\int_0^l \\left(e^{x(l-x)}-1\\right)\\sin\\left(\\frac{\\pi n}{l}\\xi\\right)d\\xi = \\frac{2}{l}\\int_0^l e^{\\xi(l-\\xi)}\\sin\\left(\\frac{\\pi n}{l}\\xi\\right)d\\xi - \\frac{2}{l}\\int_0^l\\sin\\left(\\frac{\\pi n}{l}\\xi\\right)d\\xi =$$\n",
    "   $$=-\\frac{\\sqrt{\\pi}}{2l} \\cdot Re \\left[ i\\left(-1+e^{i\\pi n}\\right)e^{\\frac{(l^2-i\\pi n)^2}{4l^2}} \\left( erf\\left(\\frac{l^2-i\\pi n}{2l}\\right) + erf\\left(\\frac{l^2+i\\pi n}{2l}\\right) \\right) \\right] + \\left. \\left(\\frac{2}{\\pi n}\\right)\\cos\\left(\\frac{\\pi nx}{l}\\right) \\right|_0^l = $$\n",
    "   $$=-\\frac{\\sqrt{\\pi}}{2l} \\cdot Re \\left[ i\\left(-1+e^{i\\pi n}\\right)e^{\\frac{(l^2-i\\pi n)^2}{4l^2}} \\left( erf\\left(\\frac{l^2-i\\pi n}{2l}\\right) + erf\\left(\\frac{l^2+i\\pi n}{2l}\\right) \\right) \\right] + \\left(\\frac{2}{\\pi n}\\right)(-1)^n - \\left(\\frac{2}{\\pi n}\\right)$$\n",
    "2. Теперь решим подзадачу 2:  \n",
    "   Представим решение в виде произведения:\n",
    "   $$U_2(x,t) = T(t)X(x) = \\sum_{n=1}^\\infty T_n(t) \\sin\\left(\\frac{\\pi n}{l}x\\right)$$\n",
    "   Представим функцию $f(x,t)$ в виде ряда Фурье по тригонометрической системе:\n",
    "   $$f(x,t) = \\sum_{n=1}^\\infty F_n(t) \\sin\\left(\\frac{\\pi n}{l}x\\right)$$\n",
    "   $$F_n(t) = \\frac{2}{l} \\int_0^l f(\\xi,t) \\sin\\left(\\frac{\\pi n}{l}\\xi\\right) d\\xi = \\frac{2}{l} \\int_0^l e^{\\xi} \\sin\\left(\\frac{\\pi n}{l}\\xi\\right) d\\xi = \\frac{2}{l} \\left. \\left[ \\frac{l^2}{l^2+\\pi^2n^2}e^{\\xi} \\sin\\left(\\frac{\\pi n}{l}\\xi\\right)- \\frac{l \\pi n}{l^2+\\pi^2n^2} \\cos\\left(\\frac{\\pi n}{l}\\xi\\right) \\right] \\right|_0^l=$$\n",
    "   $$=\\frac{2 \\pi n}{l^2+\\pi^2n^2} (-1)^{n+1} + \\frac{2 \\pi n}{l^2+\\pi^2n^2}$$\n",
    "   Найдем $T_n$:\n",
    "   $$T_n(t) = \\frac{l}{4\\pi n} \\int_0^t F_n(\\tau) \\sin\\left(\\frac{4\\pi n}{l}(t-\\tau)\\right) d\\tau = \\frac{l}{4\\pi n} \\int_0^t \\left[ \\frac{2 \\pi n}{l^2+\\pi^2n^2} (-1)^{n+1} + \\frac{2 \\pi n}{l^2+\\pi^2n^2} \\right] \\sin\\left(\\frac{4\\pi n}{l}(t-\\tau)\\right) d\\tau =$$\n",
    "   $$\\left. \\frac{l}{4\\pi n} \\left[ \\frac{2 \\pi n}{l^2+\\pi^2n^2} (-1)^{n+1} + \\frac{2 \\pi n}{l^2+\\pi^2n^2} \\right] \\frac{l}{4\\pi n} \\cos\\left(\\frac{4\\pi n}{l}(t-\\tau)\\right) \\right|_0^t = \\frac{l^2}{16\\pi^2 n^2} \\left[ \\frac{2 \\pi n}{l^2+\\pi^2n^2} (-1)^{n+1} + \\frac{2 \\pi n}{l^2+\\pi^2n^2} \\right] \\left[1 - \\cos\\left(\\frac{4\\pi n}{l}t\\right)\\right]$$\n",
    "Тогда\n",
    "$$U(x,t)=U_1(x,t)+U_2(x,t) = \\sum_{n=1}^\\infty A_n\\sin\\left(\\frac{\\pi n}{l}x\\right) e^{-\\left(\\frac{4\\pi n}{l}t\\right)} + \\sum_{n=1}^\\infty \\frac{l^2}{16\\pi^2 n^2} \\left[ \\frac{2 \\pi n}{l^2+\\pi^2n^2} (-1)^{n+1} + \\frac{2 \\pi n}{l^2+\\pi^2n^2} \\right] \\left[1 - \\cos\\left(\\frac{4\\pi n}{l}t\\right)\\right] \\sin\\left(\\frac{\\pi n}{l}x\\right)$$\n",
    "$$A_n = -\\frac{\\sqrt{\\pi}}{2l} \\cdot Re \\left[ i\\left(-1+e^{i\\pi n}\\right)e^{\\frac{(l^2-i\\pi n)^2}{4l^2}} \\left( erf\\left(\\frac{l^2-i\\pi n}{2l}\\right) + erf\\left(\\frac{l^2+i\\pi n}{2l}\\right) \\right) \\right] + \\left(\\frac{2}{\\pi n}\\right)(-1)^n - \\left(\\frac{2}{\\pi n}\\right)$$\n",
    "**Ответ:**\n",
    "$$U(x,t)= \\sum_{n=1}^\\infty A_n e^{-\\left(\\frac{4\\pi n}{l}\\right)^2t} \\sin\\left(\\frac{\\pi n}{l}x\\right) + \\sum_{n=1}^\\infty \\frac{l^2}{16\\pi^2 n^2} \\left[ \\frac{2 \\pi n}{l^2+\\pi^2n^2} (-1)^{n+1} + \\frac{2 \\pi n}{l^2+\\pi^2n^2} \\right] \\left[1 - \\cos\\left(\\frac{4\\pi n}{l}t\\right)\\right] \\sin\\left(\\frac{\\pi n}{l}x\\right)$$\n",
    "$$A_n = -\\frac{\\sqrt{\\pi}}{2l} \\cdot Re \\left[ i\\left(-1+e^{i\\pi n}\\right)e^{\\frac{(l^2-i\\pi n)^2}{4l^2}} \\left( erf\\left(\\frac{l^2-i\\pi n}{2l}\\right) + erf\\left(\\frac{l^2+i\\pi n}{2l}\\right) \\right) \\right] + \\left(\\frac{2}{\\pi n}\\right)(-1)^n - \\left(\\frac{2}{\\pi n}\\right)$$"
   ]
  },
  {
   "cell_type": "code",
   "execution_count": null,
   "id": "8aed5091-9c24-4c1e-b217-ddf74d502983",
   "metadata": {
    "id": "8aed5091-9c24-4c1e-b217-ddf74d502983"
   },
   "outputs": [],
   "source": []
  }
 ],
 "metadata": {
  "colab": {
   "provenance": []
  },
  "kernelspec": {
   "display_name": "Python 3 (ipykernel)",
   "language": "python",
   "name": "python3"
  },
  "language_info": {
   "codemirror_mode": {
    "name": "ipython",
    "version": 3
   },
   "file_extension": ".py",
   "mimetype": "text/x-python",
   "name": "python",
   "nbconvert_exporter": "python",
   "pygments_lexer": "ipython3",
   "version": "3.12.4"
  }
 },
 "nbformat": 4,
 "nbformat_minor": 5
}
