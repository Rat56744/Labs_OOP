{
 "cells": [
  {
   "cell_type": "markdown",
   "id": "66d5a179-ed84-4611-a657-cc5f08916781",
   "metadata": {},
   "source": [
    "# **Большое домашнее задание №1 по дисциплине \"Уравнения математической физики\"**\n",
    "---\n",
    "**Выполнил:** Ткаченко Иван Викторович (ПМ-32) (ivantkachenko938@gmail.com)  \n",
    "**Преподаватель:** Гурьянов М.А., кафедра ВМ-1  \n",
    "Вариант № 19  \n",
    "1 семестр, 2024 год  \n",
    "МИЭТ, Зеленоград"
   ]
  },
  {
   "cell_type": "markdown",
   "id": "c5df9e28-3b46-4134-ae45-151bb2e9c3a0",
   "metadata": {},
   "source": [
    "**Задание 1.** Найти общее решение однородного линейного ДУЧП.\n",
    "$$x^2 U_x + 3y U_y = 0$$"
   ]
  },
  {
   "cell_type": "markdown",
   "id": "1f948dd0-1738-48d2-8765-6ced42ae2b65",
   "metadata": {},
   "source": [
    "**Решение:** Пред нами линейное однородное ДУЧП первого порядка $\\implies$ решение будем искать в виде $U(x,y)=w(g(x,y))$, где $w(\\xi)$ - произвольная функция одного переменного, $g(x,y)$ - единственный первый интеграл.  \n",
    "Найду превый интеграл:\n",
    "$$\\frac{dx}{x^2} = \\frac{dy}{3y}$$\n",
    "$$\\int \\frac{1}{x^2} dx = \\int \\frac{1}{3y} dy$$\n",
    "$$-\\frac{1}{x} = \\frac{1}{3}ln|y| + C$$\n",
    "$$C = \\frac{1}{3}ln|y| + \\frac{1}{x}$$\n",
    "Отсюда:\n",
    "$$g(x,y) = C = \\frac{1}{3}ln|y| + \\frac{1}{x}$$\n",
    "**Ответ:** $$U(x,y) = w \\left( \\frac{1}{3}ln|y| + \\frac{1}{x} \\right)$$"
   ]
  },
  {
   "cell_type": "markdown",
   "id": "13c9b5b1-15b9-4242-8edc-7417ad7844d7",
   "metadata": {},
   "source": [
    "**Задание 2.** Найти решение задачи Коши.\n",
    "$$\\frac{1}{x} U_x - 4x^3 U_y = 0$$\n",
    "$$x=t, \\; \\; y=6t^5, \\; \\; U(x,y)=cos(t)$$"
   ]
  },
  {
   "cell_type": "markdown",
   "id": "bfceb92e-ad86-4325-9d08-1bf00e85118a",
   "metadata": {},
   "source": [
    "**Решение:** Пред нами линейное однородное ДУЧП первого порядка $\\implies$ решение будем искать в виде $U(x,y)=w(g(x,y))$, где $w(\\xi)$ - произвольная функция одного переменного, $g(x,y)$ - единственный первый интеграл.  \n",
    "Найду превый интеграл:\n",
    "$$xdx = -\\frac{dy}{4x^3}$$\n",
    "$$\\int 4x^4dx=-\\int dy$$\n",
    "$$\\frac{4}{5}x^5=-y+C$$\n",
    "$$C=\\frac{4}{5}x^5+y$$\n",
    "Отсюда:\n",
    "$$g(x,y)=C=\\frac{4}{5}x^5+y$$\n",
    "$$U(x,y)=w\\left(\\frac{4}{5}x^5+y\\right)$$\n",
    "Найду решение задачи Коши:\n",
    "$$U(t,6t^5)=w\\left(\\frac{34}{5}t^5\\right)=cos(t)$$\n",
    "$$\\xi=\\frac{34}{5}t^5\\;\\;\\implies\\;\\;t=\\sqrt[5]{\\frac{5}{34}\\xi}$$\n",
    "\n",
    "\n",
    "\n",
    "**Ответ:** $$U(x,y) = cos \\left(\\sqrt[5]{\\frac{5}{34}\\left(\\frac{4}{5}x^5+y\\right)}\\right)$$"
   ]
  },
  {
   "cell_type": "markdown",
   "id": "2cb85456-e5d1-4cad-ba97-13838ae5bfc2",
   "metadata": {},
   "source": [
    "**Задание 3.** Найти общее решение квазилинейного уравнения.\n",
    "$$\\frac{1}{sin(x)} U_x+3xU_y=\\frac{1}{U^2}$$"
   ]
  },
  {
   "cell_type": "markdown",
   "id": "96050b14-8581-4b11-b21c-bf91fd6b1bf5",
   "metadata": {},
   "source": [
    "**Решение:** Пред нами квазилинейное неоднородное ДУЧП первого порядка $\\implies$ общее решение будем искать в виде $\\psi(x,y,U)=w(g_1(x,y,U),g_2(x,y,U))$, где $w(\\xi,\\eta)$ - произвольная функция двух переменных, $g_1(x,y,U),g_2(x,y,U)$ - первые интегралы.  \n",
    "Найду превые интегралы:\n",
    "$$sin(x)dx=\\frac{dy}{3x}=U^2dU$$\n",
    "1)\n",
    "$$sin(x)dx=\\frac{dy}{3x}$$\n",
    "$$\\int 3x \\cdot sin(x) dx = \\int dy$$\n",
    "$$-3x \\cdot cos(x) + 3sin(x) = y + C_1$$\n",
    "$$C_1 = 3x \\cdot cos(x) - 3sin(x) + y$$\n",
    "$$g_1(x,y) = C_1 = 3x \\cdot cos(x) - 3sin(x) + y$$\n",
    "2)\n",
    "$$sin(x)dx=U^2dU$$\n",
    "$$\\int sin(x) dx = \\int U^2dU$$\n",
    "$$-cos(x) = \\frac{1}{3}U^3 + C_2$$\n",
    "$$C_2 = cos(x) + \\frac{1}{3}U^3$$\n",
    "$$g_2(x,U) = C_2 = cos(x) + \\frac{1}{3}U^3$$\n",
    "**Ответ:**\n",
    "$$\\psi(x,y,U)=w \\left( 3x \\cdot cos(x) - 3sin(x) + y, \\; \\; cos(x) + \\frac{1}{3}U^3 \\right)$$"
   ]
  },
  {
   "cell_type": "markdown",
   "id": "52fa4e88-eba5-4bfc-9881-eefab5ec228d",
   "metadata": {},
   "source": [
    "**Задание 4.** Найти решение квазилинейного уравнения.\n",
    "$$xU_x+2x^2e^yU_y=U$$"
   ]
  },
  {
   "cell_type": "markdown",
   "id": "bc6a9d7b-0c32-4a12-b722-0ee496739786",
   "metadata": {},
   "source": [
    "**Решение:** Пред нами квазилинейное неоднородное ДУЧП первого порядка $\\implies$ общее решение будем искать в виде $\\psi(x,y,U)=w(g_1(x,y,U),g_2(x,y,U))$, где $w(\\xi,\\eta)$ - произвольная функция двух переменных, $g_1(x,y,U),g_2(x,y,U)$ - первые интегралы.  \n",
    "Найду превые интегралы:\n",
    "$$\\frac{dx}{x}=\\frac{dy}{2x^2e^y}=\\frac{dU}{U}$$\n",
    "1)\n",
    "$$\\frac{dx}{x}=\\frac{dy}{2x^2e^y}$$\n",
    "$$\\int x dx = \\int \\frac{1}{2e^y} dy$$\n",
    "$$\\frac{1}{2} x^2 = -\\frac{1}{2e^y} + C_1$$\n",
    "$$C_1 = \\frac{1}{2} x^2 + \\frac{1}{2e^y}$$\n",
    "$$g_1(x,y) = C_1 = \\frac{1}{2} x^2 + \\frac{1}{2e^y}$$\n",
    "2)\n",
    "$$\\frac{dx}{x}=\\frac{dU}{U}$$\n",
    "$$\\int \\frac{1}{x} dx = \\int \\frac{1}{U} dU$$\n",
    "$$ln|x| = ln|U| + C_2$$\n",
    "$$C_2 = ln \\left| \\frac{U}{x} \\right|$$\n",
    "$$g_2(x,U) = C_2 = ln \\left| \\frac{U}{x} \\right|$$\n",
    "Отсюда:\n",
    "$$\\psi(x,y,U)=w \\left( \\frac{1}{2} x^2 + \\frac{1}{2e^y}, \\; \\; ln \\left| \\frac{U}{x} \\right| \\right)$$\n",
    "Выражу $U(x,y)$:\n",
    "$$ln \\left| \\frac{U}{x} \\right| = \\widetilde{w} \\left( \\frac{1}{2} x^2 + \\frac{1}{2e^y} \\right)$$\n",
    "$$\\frac{U}{x} = \\pm exp \\left( \\widetilde{w} \\left( \\frac{1}{2} x^2 + \\frac{1}{2e^y} \\right) \\right)$$\n",
    "**Ответ:**\n",
    "$$U(x,y) = \\pm x \\cdot exp \\left( \\widetilde{w} \\left( \\frac{1}{2} x^2 + \\frac{1}{2e^y} \\right) \\right) $$"
   ]
  },
  {
   "cell_type": "markdown",
   "id": "e6e68172-0b7b-4788-8f22-0cc25c7b0c3f",
   "metadata": {},
   "source": [
    "**Задание 5.** Определить тип, привести к каноническому типу.\n",
    "$$U_{xx}+U_{xy}+2U_{yy}+9U_x-3U_y=0$$"
   ]
  },
  {
   "cell_type": "markdown",
   "id": "f6beaa29-50dd-4e30-ad91-768c97d6580b",
   "metadata": {},
   "source": [
    "**Решение:** Пред нами ДУЧП второго порядка $\\implies$ решение будем искать по следующему алгоритму:  \n",
    "1. Определю коэффициенты $A(x,y), B(x,y), C(x,y)$:\n",
    "   $$A=1, \\;\\; B=0.5, \\; \\; C=2$$\n",
    "2. Посчитаю выражение $B^2-AC$:\n",
    "   $$B^2-AC = 0.25 - 2 = -1.75$$\n",
    "3. $B^2-AC = -1.75 < 0$ $\\implies$ уравнение эллиптического типа на всей плоскости;\n",
    "4. Запишу уравнение характеристик:\n",
    "   $$dy^2 - dxdy + 2dx^2 = 0$$\n",
    "5. Решу уравнение. Для этого:  \n",
    "   а) разрешу уравнение как квадратное уравнение относительно $dy$:\n",
    "   $$dy = \\frac{0.5 \\pm \\sqrt{-1.75}}{1} dx$$\n",
    "   $$dy=\\left(0.5+\\frac{\\sqrt{7}}{2}i \\right)dx, \\; \\; dy=\\left(0.5-\\frac{\\sqrt{7}}{2}i \\right)dx$$\n",
    "   б) найду общие интегралы (характеристики уравнения):\n",
    "   $$y=\\left(0.5+\\frac{\\sqrt{7}}{2}i \\right)x+C_1, \\; \\; y=\\left(0.5-\\frac{\\sqrt{7}}{2}i \\right)x+C_2$$\n",
    "   $$C_1=y-\\left(0.5+\\frac{\\sqrt{7}}{2}i \\right)x, \\; \\; C_2=y-\\left(0.5-\\frac{\\sqrt{7}}{2}i \\right)x$$\n",
    "6. Введу характеристические переменные:\n",
    "   $$\\xi = Re(C_1) = y - 0.5x$$\n",
    "   $$\\eta = Im(C_1) = -\\frac{\\sqrt{7}}{2} x$$\n",
    "7. Пересчитаю производные, входящие в исходное уравнение.\n",
    "   Сначала найду\n",
    "   $$\\xi_x=-0.5, \\; \\; \\xi_y=1, \\; \\; \\xi_{xx}=\\xi_{xy}=\\xi{yy}=0$$\n",
    "   $$\\eta_x=-\\frac{\\sqrt{7}}{2}, \\; \\; \\eta_y=\\eta_{xx}=\\eta_{xy}=\\eta{yy}=0$$\n",
    "   Используя формулы, получу  \n",
    "   $\\;\\;\\;9|U_x=-0.5U_{\\xi}-\\frac{\\sqrt{7}}{2}U_{\\eta}$  \n",
    "   $-3|U_y=U_{\\xi}$  \n",
    "   $\\;\\;\\;1|U_{xx}=0.25U_{\\xi\\xi}+\\frac{\\sqrt{7}}{2}U_{\\xi\\eta}+1.75U_{\\eta\\eta}$  \n",
    "   $\\;\\;\\;1|U_{xy}=-0.5U_{\\xi\\xi}-\\frac{\\sqrt{7}}{2}U_{\\xi\\eta}$  \n",
    "   $\\;\\;\\;2|U_{yy}=U_{\\xi\\xi}$\n",
    "8. Собирая подобные слагаемые, получу:\n",
    "   $$1.75U_{\\xi\\xi}+1.75U_{\\eta\\eta}-7.5U_{\\xi}-\\frac{9\\sqrt{7}}{2}U_{\\eta}=0$$\n",
    "   Или\n",
    "   $$U_{\\xi\\xi}+U_{\\eta\\eta}+\\frac{30}{7}U_{\\xi}-\\frac{18\\sqrt{7}}{7}U_{\\eta}=0$$\n",
    "**Ответ:**  \n",
    "$U_{\\xi\\xi}+U_{\\eta\\eta}+\\frac{30}{7}U_{\\xi}-\\frac{18\\sqrt{7}}{7}U_{\\eta}=0$,  \n",
    "где $\\xi = y - 0.5x$, $\\eta = -\\frac{\\sqrt{7}}{2} x$."
   ]
  },
  {
   "cell_type": "markdown",
   "id": "4a35e8fc-22bd-48e8-aa19-125e6a7ee56e",
   "metadata": {},
   "source": [
    "**Задание 6.** Определить тип, привести к каноническому типу.\n",
    "$$-2U_{xx}+U_{xy}-2U_{yy}+6U_x-2U_y=0$$"
   ]
  },
  {
   "cell_type": "markdown",
   "id": "5771b0ea-cbf0-42f1-9994-11b135b02fed",
   "metadata": {},
   "source": [
    "**Решение:** Пред нами ДУЧП второго порядка $\\implies$ решение будем искать по следующему алгоритму:  \n",
    "1. Определю коэффициенты $A(x,y), B(x,y), C(x,y)$:\n",
    "   $$A=-2, \\;\\; B=0.5, \\; \\; C=-2$$\n",
    "2. Посчитаю выражение $B^2-AC$:\n",
    "   $$B^2-AC = 0.25 - 4 = -3.75$$\n",
    "3. $B^2-AC = -3.75 < 0$ $\\implies$ уравнение эллиптического типа на всей плоскости;\n",
    "4. Запишу уравнение характеристик:\n",
    "   $$-2dy^2 - dxdy -2dx^2 = 0$$\n",
    "5. Решу уравнение. Для этого:  \n",
    "   а) разрешу уравнение как квадратное уравнение относительно $dy$:\n",
    "   $$dy = \\frac{0.5 \\pm \\sqrt{-3.75}}{-2} dx$$\n",
    "   $$dy=\\left(-0.25+\\frac{\\sqrt{15}}{4}i \\right)dx, \\; \\; dy=\\left(-0.25-\\frac{\\sqrt{15}}{4}i \\right)dx$$\n",
    "   б) найду общие интегралы (характеристики уравнения):\n",
    "   $$y=\\left(-0.25+\\frac{\\sqrt{15}}{4}i \\right)x+C_1, \\; \\; y=\\left(-0.25-\\frac{\\sqrt{15}}{4}i \\right)x+C_2$$\n",
    "   $$C_1=y+\\left(0.25-\\frac{\\sqrt{15}}{4}i \\right)x, \\; \\; C_2=y+\\left(0.25+\\frac{\\sqrt{15}}{4}i \\right)x$$\n",
    "6. Введу характеристические переменные:\n",
    "   $$\\xi = Re(C_1) = y + 0.25x$$\n",
    "   $$\\eta = Im(C_1) = -\\frac{\\sqrt{15}}{4} x$$\n",
    "7. Пересчитаю производные, входящие в исходное уравнение.\n",
    "   Сначала найду\n",
    "   $$\\xi_x=0.25, \\; \\; \\xi_y=1, \\; \\; \\xi_{xx}=\\xi_{xy}=\\xi{yy}=0$$\n",
    "   $$\\eta_x=-\\frac{\\sqrt{15}}{4}, \\; \\; \\eta_y=\\eta_{xx}=\\eta_{xy}=\\eta{yy}=0$$\n",
    "   Используя формулы, получу  \n",
    "   $\\;\\;\\;6|U_x=0.25U_{\\xi}-\\frac{\\sqrt{15}}{4}U_{\\eta}$  \n",
    "   $-2|U_y=U_{\\xi}$  \n",
    "   $-2|U_{xx}=0.0625U_{\\xi\\xi}-\\frac{\\sqrt{15}}{8}U_{\\xi\\eta}+0.9375U_{\\eta\\eta}$  \n",
    "   $\\;\\;\\;1|U_{xy}=0.25U_{\\xi\\xi}-\\frac{\\sqrt{15}}{4}U_{\\xi\\eta}$  \n",
    "   $-2|U_{yy}=U_{\\xi\\xi}$\n",
    "8. Собирая подобные слагаемые, получу:\n",
    "   $$-1.875U_{\\xi\\xi}-1.875U_{\\eta\\eta}-0.5U_{\\xi}-\\frac{3\\sqrt{15}}{2}U_{\\eta}=0$$\n",
    "   Или\n",
    "   $$U_{\\xi\\xi}+U_{\\eta\\eta}+\\frac{4}{15}U_{\\xi}+\\frac{4\\sqrt{7}}{5}U_{\\eta}=0$$\n",
    "**Ответ:**  \n",
    "$U_{\\xi\\xi}+U_{\\eta\\eta}+\\frac{4}{15}U_{\\xi}+\\frac{4\\sqrt{7}}{5}U_{\\eta}=0$,  \n",
    "где $\\xi = y + 0.25x$, $\\eta = -\\frac{\\sqrt{15}}{4} x$."
   ]
  },
  {
   "cell_type": "code",
   "execution_count": null,
   "id": "960e18d9-52f0-48a1-aff4-5574812b2821",
   "metadata": {},
   "outputs": [],
   "source": []
  }
 ],
 "metadata": {
  "kernelspec": {
   "display_name": "Python 3 (ipykernel)",
   "language": "python",
   "name": "python3"
  },
  "language_info": {
   "codemirror_mode": {
    "name": "ipython",
    "version": 3
   },
   "file_extension": ".py",
   "mimetype": "text/x-python",
   "name": "python",
   "nbconvert_exporter": "python",
   "pygments_lexer": "ipython3",
   "version": "3.12.4"
  }
 },
 "nbformat": 4,
 "nbformat_minor": 5
}
