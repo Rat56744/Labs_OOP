Для реализации иерархии классов, описанной в ваших требованиях, можно использовать базовый класс `common`, от которого будут наследоваться классы `student` и `teacher`. Это позволит вам создать общую структуру для всех объектов, которые могут иметь общие методы и свойства. 

### Шаги для реализации:

1. **Создание базового класса `common`:**
   Этот класс будет содержать общие методы и свойства, которые могут быть использованы как в классе `student`, так и в классе `teacher`.

```cpp
class common {
public:
    virtual void display() const = 0; // Чисто виртуальный метод для отображения информации
    virtual ~common() {} // Виртуальный деструктор
};
```

2. **Создание класса `fio`:**
   Этот класс будет использоваться в классе `teacher` для хранения информации о фамилии, имени и отчестве.

```cpp
class fio {
private:
    std::string lastName;
    std::string firstName;
    std::string middleName;

public:
    fio(const std::string& last, const std::string& first, const std::string& middle)
        : lastName(last), firstName(first), middleName(middle) {}

    friend std::ostream& operator<<(std::ostream& os, const fio& f) {
        os << f.lastName << " " << f.firstName << " " << f.middleName;
        return os;
    }
};
```

3. **Создание перечисляемого типа для кафедры:**

```cpp
enum class Department {
    SPINTEX,
    BMS,
    PKIMS
};
```

4. **Создание класса `teacher`:**
   Этот класс будет наследовать от класса `common` и содержать информацию о преподавателе.

```cpp
class teacher : public common {
private:
    fio teacherFio;
    Department department;
    std::string course;

public:
    teacher(const fio& f, Department dep, const std::string& c)
        : teacherFio(f), department(dep), course(c) {}

    void display() const override {
        std::cout << "Teacher: " << teacherFio << ", Department: " 
                  << static_cast<int>(department) << ", Course: " << course << "\n";
    }
};
```

5. **Изменение класса `student`:**
   Класс `student` будет наследовать от класса `common` и переопределять метод отображения.

```cpp
class student : public common {
private:
    man Man; // Используем ваш существующий класс man
    std::string direction;
    int grup;

public:
    // Конструкторы и другие методы...

    void display() const override {
        Man.man_out(); // Используем метод из класса man
        std::cout << ", Direction: " << direction << ", Group: " << grup << "\n";
    }
};
```

6. **Тестовая программа:**
   В тестовой программе вы можете создать векторы объектов типа `common*`, чтобы хранить как студентов, так и преподавателей.

```cpp
#include <vector>
#include <iostream>

int main() {
    std::vector<common*> people;

    // Создаем студентов
    fio studentFio("Ivanov", "Ivan", "Ivanovich");
    student* stud = new student(/* параметры конструктора */);
    
    // Создаем преподавателей
    fio teacherFio("Petrov", "Petr", "Petrovich");
    teacher* teach = new teacher(teacherFio, Department::BMS, "Mathematics");

    people.push_back(stud);
    people.push_back(teach);

    for (const auto& person : people) {
        person->display(); // Полиморфный вызов метода display()
    }

    // Освобождение памяти
    for (auto person : people) {
        delete person;
    }

    return 0;
}
```

### Пояснения:

- **Наследование:** Классы `student` и `teacher` наследуют от базового класса `common`, что позволяет использовать полиморфизм.
- **Перечисления:** Перечисления используются для определения фиксированного набора значений (например, кафедры). Вы можете использовать их в качестве параметров или свойств классов.
- **Полиморфизм:** Используя указатели на базовый класс (`common*`), вы можете хранить объекты разных производных классов в одном контейнере и вызывать их методы через виртуальные функции.
- **Гибкость:** Структура классов позволяет легко добавлять новые типы объектов (например, другие роли в учебном процессе) без изменения существующего кода.

Эта структура обеспечит гибкость вашего кода и упростит его модификацию в будущем.