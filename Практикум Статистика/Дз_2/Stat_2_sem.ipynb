{
 "cells": [
  {
   "cell_type": "code",
   "execution_count": 4,
   "id": "7e6b17d7-56c8-49a8-a73b-178ce6b6b592",
   "metadata": {},
   "outputs": [],
   "source": [
    "import numpy as np \n",
    "import scipy.stats as sts \n",
    "import scipy.special as sc \n",
    "import matplotlib.pyplot as plt \n",
    "import random\n",
    "from scipy import integrate\n",
    "from statsmodels.sandbox.distributions.sppatch import expect_v2\n",
    "%matplotlib inline "
   ]
  },
  {
   "cell_type": "markdown",
   "id": "11407df1-bfbc-4ed6-af4c-25007ea65fa3",
   "metadata": {},
   "source": [
    "1-е Задание"
   ]
  },
  {
   "cell_type": "code",
   "execution_count": 7,
   "id": "0c178907-c181-4345-8ceb-207c27a38b90",
   "metadata": {},
   "outputs": [
    {
     "name": "stdout",
     "output_type": "stream",
     "text": [
      "Выборка: \n",
      " [3 1 2 2 1 0 2 1 2 1 2 2 1 2 0 2 2 2 0 0 2 1 0 0 1 0 1 1 2 2]\n",
      "Набор различных значений выборки: \n",
      " zk = [0 1 2 3]\n",
      "Относительные частоты различных элементов: \n",
      " [0.23333333 0.3        0.43333333 0.03333333]\n",
      "Статистический ряд: \n",
      " zk \t pk\n",
      "0 \t 0.23333333333333334\n",
      "1 \t 0.3\n",
      "2 \t 0.43333333333333335\n",
      "3 \t 0.03333333333333333\n"
     ]
    },
    {
     "data": {
      "text/plain": [
       "<BarContainer object of 4 artists>"
      ]
     },
     "execution_count": 7,
     "metadata": {},
     "output_type": "execute_result"
    },
    {
     "data": {
      "image/png": "[encoded data removed]",
      "text/plain": [
       "<Figure size 640x480 with 1 Axes>"
      ]
     },
     "metadata": {},
     "output_type": "display_data"
    }
   ],
   "source": [
    "nv = 30\n",
    "n = 4\n",
    "p = 1/3\n",
    "x = np.random.binomial(n, p, nv)\n",
    "print('Выборка:' , '\\n', x)\n",
    "z = np.sort(list(set(x)))\n",
    "print('Набор различных значений выборки:', '\\n', 'zk =', z)\n",
    "pz = np.bincount(x)/nv\n",
    "print('Относительные частоты различных элементов:', '\\n', pz)\n",
    "\n",
    "z_pz = np.stack((z, pz))\n",
    "print('Статистический ряд:', '\\n', 'zk \\t pk')\n",
    "for k in range(len(z)):\n",
    "    print(z[k], '\\t', pz[k])\n",
    "plt.title('Визуализация статистического ряда')\n",
    "plt.bar(z, pz, width = 0.5)"
   ]
  },
  {
   "cell_type": "markdown",
   "id": "11b391d6-8bf1-470e-a332-e8d93417cd8e",
   "metadata": {},
   "source": [
    "Задание 2"
   ]
  },
  {
   "cell_type": "code",
   "execution_count": 11,
   "id": "b951fbb8-ec09-4c20-a750-3501edd6658b",
   "metadata": {},
   "outputs": [
    {
     "name": "stdout",
     "output_type": "stream",
     "text": [
      "Выборка: \n",
      " [1 0 1 ... 0 1 1]\n",
      "Статистический ряд: \n",
      " zk \t pk\n",
      "0 \t 0.20064\n",
      "1 \t 0.79936\n"
     ]
    }
   ],
   "source": [
    "n = 100000\n",
    "f = np.full(n, 1)\n",
    "x = np.array([1, 2, 3, 4, 5, 6])\n",
    "for k in np.arange(n):\n",
    "    v = random.sample('123456', 3)\n",
    "    if ('2' in v and '3' in v):\n",
    "        f[k] = 0\n",
    "    else:\n",
    "        f[k] = 1\n",
    "print('Выборка:', '\\n', f)\n",
    "z = np.sort(list(set(f)))\n",
    "pz = np.bincount(f)/n\n",
    "z_pz = np.stack((z, pz))\n",
    "print('Статистический ряд:', '\\n', 'zk \\t pk')\n",
    "for k in range(len(z)):\n",
    "    print(z[k], '\\t', pz[k])"
   ]
  },
  {
   "cell_type": "markdown",
   "id": "f422ac1c-60e7-4329-92f7-d5c204df7332",
   "metadata": {},
   "source": [
    "Пример 3"
   ]
  },
  {
   "cell_type": "code",
   "execution_count": null,
   "id": "aed765f1-680d-4548-9357-c7589dc6da9e",
   "metadata": {},
   "outputs": [],
   "source": [
    "nn = "
   ]
  },
  {
   "cell_type": "code",
   "execution_count": null,
   "id": "4e6bf7c7-f82b-4082-873d-6add369507a0",
   "metadata": {},
   "outputs": [],
   "source": []
  },
  {
   "cell_type": "code",
   "execution_count": null,
   "id": "9d303dcc-a9de-4eed-ab3d-6ad0fae3e947",
   "metadata": {},
   "outputs": [],
   "source": []
  },
  {
   "cell_type": "code",
   "execution_count": null,
   "id": "d93c7792-c2c8-4cc3-b7fb-e2dc472c4292",
   "metadata": {},
   "outputs": [],
   "source": []
  },
  {
   "cell_type": "code",
   "execution_count": null,
   "id": "8c097c8f-e332-4c28-9586-17e715ca077a",
   "metadata": {},
   "outputs": [],
   "source": []
  },
  {
   "cell_type": "code",
   "execution_count": null,
   "id": "ebfd1c45-93f1-434e-b49b-2b048d7eb7d0",
   "metadata": {},
   "outputs": [],
   "source": []
  },
  {
   "cell_type": "code",
   "execution_count": null,
   "id": "440fc7e3-29a8-4f2b-acec-415e9d43e981",
   "metadata": {},
   "outputs": [],
   "source": []
  },
  {
   "cell_type": "code",
   "execution_count": null,
   "id": "2623df1a-a3bf-44c1-9b91-9cbceeb9646a",
   "metadata": {},
   "outputs": [],
   "source": []
  },
  {
   "cell_type": "code",
   "execution_count": null,
   "id": "9d4e2e72-3afd-4afd-9643-e7553cb04cfd",
   "metadata": {},
   "outputs": [],
   "source": []
  },
  {
   "cell_type": "code",
   "execution_count": null,
   "id": "1090a79a-2381-45b3-af2e-0fd266242f0a",
   "metadata": {},
   "outputs": [],
   "source": []
  },
  {
   "cell_type": "code",
   "execution_count": null,
   "id": "51057b7f-b4f9-4e9b-b6c4-21327382f0d8",
   "metadata": {},
   "outputs": [],
   "source": []
  },
  {
   "cell_type": "code",
   "execution_count": null,
   "id": "a9080016-ddbf-43b7-a6d8-a7ec295c0d6e",
   "metadata": {},
   "outputs": [],
   "source": []
  },
  {
   "cell_type": "code",
   "execution_count": null,
   "id": "2274dacc-06b4-49ae-be2c-2882de12ed4e",
   "metadata": {},
   "outputs": [],
   "source": []
  },
  {
   "cell_type": "code",
   "execution_count": null,
   "id": "dc80616c-f753-4eea-9261-0ff3bfafe1a6",
   "metadata": {},
   "outputs": [],
   "source": []
  },
  {
   "cell_type": "code",
   "execution_count": null,
   "id": "e412ab7c-7b64-45d4-9433-38911a0ac038",
   "metadata": {},
   "outputs": [],
   "source": []
  },
  {
   "cell_type": "code",
   "execution_count": null,
   "id": "a24f050d-5e15-4853-aba8-1e0f868c8cfe",
   "metadata": {},
   "outputs": [],
   "source": []
  }
 ],
 "metadata": {
  "kernelspec": {
   "display_name": "Python 3 (ipykernel)",
   "language": "python",
   "name": "python3"
  },
  "language_info": {
   "codemirror_mode": {
    "name": "ipython",
    "version": 3
   },
   "file_extension": ".py",
   "mimetype": "text/x-python",
   "name": "python",
   "nbconvert_exporter": "python",
   "pygments_lexer": "ipython3",
   "version": "3.12.4"
  }
 },
 "nbformat": 4,
 "nbformat_minor": 5
}
