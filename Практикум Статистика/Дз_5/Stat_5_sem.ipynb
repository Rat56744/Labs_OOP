{
 "cells": [
  {
   "cell_type": "code",
   "execution_count": 5,
   "id": "ab9c6ae0-6b61-4239-8847-80e923419651",
   "metadata": {},
   "outputs": [],
   "source": [
    "import numpy as np \n",
    "import scipy.stats as sts \n",
    "import scipy.special as sc \n",
    "import matplotlib.pyplot as plt \n",
    "import statsmodels.api as sm \n",
    "import statsmodels.stats.weightstats \n",
    "import statsmodels.stats.proportion \n",
    "%matplotlib inline "
   ]
  },
  {
   "cell_type": "markdown",
   "id": "1733c3d7",
   "metadata": {},
   "source": [
    "### Пример 1"
   ]
  },
  {
   "cell_type": "code",
   "execution_count": 7,
   "id": "b3775d3a-f16b-4fe9-97a4-923c0b9b2fe9",
   "metadata": {},
   "outputs": [
    {
     "name": "stdout",
     "output_type": "stream",
     "text": [
      "Границы доверительного интервала для m(Получены по формулам): 4.777832667207048 4.7837880224481255\n",
      "Границы доверительного интервала для m(Использовались функции): (4.777507613759897, 4.784113075895276)\n"
     ]
    }
   ],
   "source": [
    "rasp_e = np.array([4.740, 4.747, 4.749, 4.758, 4.761, 4.764, 4.764,\n",
    "                    4.764, 4.765, 4.767, 4.768, 4.769, 4.769, 4.771,\n",
    "                    4.771, 4.772, 4.772, 4.772, 4.774, 4.775, 4.775,\n",
    "                    4.776, 4.777, 4.777, 4.778, 4.779, 4.779, 4.779,\n",
    "                    4.781, 4.781, 4.782, 4.783, 4.783,4.785, 4.785,\n",
    "                    4.785,4.788, 4.788, 4.789, 4.789, 4.790, 4.790,\n",
    "                    4.790, 4.791, 4.791, 4.791, 4.792, 4.792, 4.795,\n",
    "                    4.797, 4.799, 4.799, 4.801, 4.805, 4.806, 4.808,\n",
    "                    4.809, 4.810])\n",
    "n = rasp_e.size\n",
    "\n",
    "beta = 0.9\n",
    "m_v = np.mean(rasp_e)\n",
    "s_2 = np.var(rasp_e, ddof=1)\n",
    "t  = sts.t(n - 1).ppf((1 + beta)/2)\n",
    "m_min =  m_v - t * s_2 * np.sqrt(n)\n",
    "m_max = m_v + t * s_2 * np.sqrt(n)\n",
    "print('Границы доверительного интервала для m (Получены по формулам):', m_min, m_max)\n",
    "m_interval = sm.stats.zconfint(rasp_e, alpha = 1 - beta)\n",
    "print('Границы доверительного интервала для m (Использовались функции):', m_interval)"
   ]
  },
  {
   "cell_type": "markdown",
   "id": "5f5ec75b",
   "metadata": {},
   "source": [
    "### Построение доверительного интервала для дисперсии"
   ]
  },
  {
   "cell_type": "code",
   "execution_count": 8,
   "id": "5df97a3e-85e0-4f9e-aae5-cfc40ad02ba8",
   "metadata": {},
   "outputs": [
    {
     "name": "stdout",
     "output_type": "stream",
     "text": [
      "Границы доверительного интервала для D(Получены по формулам): 0.0003279273701255804 0.0003279273701255804\n"
     ]
    }
   ],
   "source": [
    "chi2 = sts.chi2(n - 1).ppf((1 - beta)/2)\n",
    "Dx_min = (n - 1) * s_2 / chi2\n",
    "Dx_max = (n - 1) * s_2 / chi2\n",
    "print('Границы доверительного интервала для D (Получены по формулам):', Dx_min, Dx_max)"
   ]
  },
  {
   "cell_type": "markdown",
   "id": "bad316b2",
   "metadata": {},
   "source": [
    "### Вероятность, что ошибка определения m не превысит заданного значения"
   ]
  },
  {
   "cell_type": "code",
   "execution_count": 10,
   "id": "ad5fe3b2-154e-4f33-bd3f-7c6e08ab0f01",
   "metadata": {},
   "outputs": [
    {
     "name": "stdout",
     "output_type": "stream",
     "text": [
      "Вероятность не превышения ошибки значения delta: 0.9842912775152693\n"
     ]
    }
   ],
   "source": [
    "delta = 0.005\n",
    "std_v = np.std(rasp_e, ddof=1)\n",
    "a = delta * np.sqrt(n) / std_v\n",
    "p = sts.t(n - 1).cdf(a) - sts.t(n - 1).cdf(- a)\n",
    "print('Вероятность не превышения ошибки значения delta:', p)"
   ]
  },
  {
   "cell_type": "markdown",
   "id": "2a19e378",
   "metadata": {},
   "source": [
    "## Пример 2"
   ]
  },
  {
   "cell_type": "code",
   "execution_count": null,
   "id": "39ed915c-a364-4aee-b98c-e871e311d9fb",
   "metadata": {},
   "outputs": [],
   "source": []
  },
  {
   "cell_type": "code",
   "execution_count": null,
   "id": "545ec132-ed3a-448c-a58f-e95b5e799dc8",
   "metadata": {},
   "outputs": [],
   "source": []
  },
  {
   "cell_type": "code",
   "execution_count": null,
   "id": "f3bf613c-d8ce-418f-870b-9512526a0444",
   "metadata": {},
   "outputs": [],
   "source": []
  },
  {
   "cell_type": "code",
   "execution_count": null,
   "id": "7bdae9ab-deca-4c93-8f7c-6392a75f0093",
   "metadata": {},
   "outputs": [],
   "source": []
  },
  {
   "cell_type": "code",
   "execution_count": null,
   "id": "eb2d4754-bc90-4d3c-a2ad-8e3fdb1ed93d",
   "metadata": {},
   "outputs": [],
   "source": []
  },
  {
   "cell_type": "code",
   "execution_count": null,
   "id": "1b5dbe50-aa05-42eb-9433-f2174cbb40e4",
   "metadata": {},
   "outputs": [],
   "source": []
  },
  {
   "cell_type": "code",
   "execution_count": null,
   "id": "56364949-714c-4308-b267-3e56a3a9fb91",
   "metadata": {},
   "outputs": [],
   "source": []
  },
  {
   "cell_type": "code",
   "execution_count": null,
   "id": "8c48027d-3ca6-4133-979e-77b7fea593fd",
   "metadata": {},
   "outputs": [],
   "source": []
  },
  {
   "cell_type": "code",
   "execution_count": null,
   "id": "573fb3b7-62f3-4ebe-b283-cac54deded02",
   "metadata": {},
   "outputs": [],
   "source": []
  },
  {
   "cell_type": "code",
   "execution_count": null,
   "id": "07513cf0-5172-41d4-9fdf-7956798aafc6",
   "metadata": {},
   "outputs": [],
   "source": []
  },
  {
   "cell_type": "code",
   "execution_count": null,
   "id": "c03619fd-2885-4002-8204-4493422b65f7",
   "metadata": {},
   "outputs": [],
   "source": []
  },
  {
   "cell_type": "code",
   "execution_count": null,
   "id": "8ea32492-d0d6-43e6-8397-4c1054fa139c",
   "metadata": {},
   "outputs": [],
   "source": []
  },
  {
   "cell_type": "code",
   "execution_count": null,
   "id": "add86140-d990-4c21-960a-36a41b8cd846",
   "metadata": {},
   "outputs": [],
   "source": []
  },
  {
   "cell_type": "code",
   "execution_count": null,
   "id": "b278cc23-6cc5-4ee0-acf5-16870614226c",
   "metadata": {},
   "outputs": [],
   "source": []
  },
  {
   "cell_type": "code",
   "execution_count": null,
   "id": "145d75b6-6676-4908-8bda-f876ea95310c",
   "metadata": {},
   "outputs": [],
   "source": []
  },
  {
   "cell_type": "code",
   "execution_count": null,
   "id": "8ab5736c-d572-4518-9a14-3e3884f03e61",
   "metadata": {},
   "outputs": [],
   "source": []
  }
 ],
 "metadata": {
  "kernelspec": {
   "display_name": "Python 3 (ipykernel)",
   "language": "python",
   "name": "python3"
  },
  "language_info": {
   "codemirror_mode": {
    "name": "ipython",
    "version": 3
   },
   "file_extension": ".py",
   "mimetype": "text/x-python",
   "name": "python",
   "nbconvert_exporter": "python",
   "pygments_lexer": "ipython3",
   "version": "3.12.4"
  }
 },
 "nbformat": 4,
 "nbformat_minor": 5
}
