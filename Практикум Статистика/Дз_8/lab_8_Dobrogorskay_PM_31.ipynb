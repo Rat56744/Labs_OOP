{
 "cells": [
  {
   "cell_type": "markdown",
   "id": "5064d402",
   "metadata": {},
   "source": [
    "# <center> Практическая работа №8.\n",
    "### <center> Проверка гипотез о законе распределения, проблема нормализации выборки Сравнение характеристик распределения двух генеральных совокупностей параметрическими методами "
   ]
  },
  {
   "cell_type": "code",
   "execution_count": 1,
   "id": "f34d9d98",
   "metadata": {
    "scrolled": true
   },
   "outputs": [
    {
     "name": "stdout",
     "output_type": "stream",
     "text": [
      "\u001b[1;31merror\u001b[0m: \u001b[1mexternally-managed-environment\u001b[0m\n",
      "\n",
      "\u001b[31m×\u001b[0m This environment is externally managed\n",
      "\u001b[31m╰─>\u001b[0m To install Python packages system-wide, try apt install\n",
      "\u001b[31m   \u001b[0m python3-xyz, where xyz is the package you are trying to\n",
      "\u001b[31m   \u001b[0m install.\n",
      "\u001b[31m   \u001b[0m \n",
      "\u001b[31m   \u001b[0m If you wish to install a non-Debian-packaged Python package,\n",
      "\u001b[31m   \u001b[0m create a virtual environment using python3 -m venv path/to/venv.\n",
      "\u001b[31m   \u001b[0m Then use path/to/venv/bin/python and path/to/venv/bin/pip. Make\n",
      "\u001b[31m   \u001b[0m sure you have python3-full installed.\n",
      "\u001b[31m   \u001b[0m \n",
      "\u001b[31m   \u001b[0m If you wish to install a non-Debian packaged Python application,\n",
      "\u001b[31m   \u001b[0m it may be easiest to use pipx install xyz, which will manage a\n",
      "\u001b[31m   \u001b[0m virtual environment for you. Make sure you have pipx installed.\n",
      "\u001b[31m   \u001b[0m \n",
      "\u001b[31m   \u001b[0m See /usr/share/doc/python3.12/README.venv for more information.\n",
      "\n",
      "\u001b[1;35mnote\u001b[0m: If you believe this is a mistake, please contact your Python installation or OS distribution provider. You can override this, at the risk of breaking your Python installation or OS, by passing --break-system-packages.\n",
      "\u001b[1;36mhint\u001b[0m: See PEP 668 for the detailed specification.\n"
     ]
    }
   ],
   "source": [
    "#Загрузка основных модулей:\n",
    "import numpy as np\n",
    "import scipy.stats as sts\n",
    "import matplotlib.pyplot as plt\n",
    "import pandas as pd\n",
    "import statsmodels.api as sm\n",
    "import seaborn\n",
    "import plotly.graph_objects as go\n",
    "%matplotlib inline\n",
    "!pip install odfpy"
   ]
  },
  {
   "cell_type": "markdown",
   "id": "b5e28734",
   "metadata": {},
   "source": [
    "**Задание 1.** В файле «Данные 8_1» приведены данные успеваемости\n",
    "студентов 1-го курса по четырем математическим дисциплинам по 100\n",
    "балльной шкале (нормированные к 1). Иван и Петр, входящие в число\n",
    "этих студентов, поспорили насчет того, по каким дисциплинам у их однокурсников хороших оценок больше, а по каким меньше. Иван думает,\n",
    "что в этом плане между дисциплинами особой разницы нет, а Петр\n",
    "настаивает, что есть. Подумав, они решили, что для объективного разрешения спора им надо, опираясь на методы математической статистики, сопоставить вероятности получения не менее n баллов в разных парах дисциплин (а именно, проверить гипотезы о равенстве вероятностей\n",
    "получения не менее n баллов по этим дисциплинам (см. п. 5 подраздела\n",
    "8.2)). Ваша задача - помочь Ивану и Петру, взяв на себя анализ пары дисциплин (в соответствии с вашим вариантом). Нужно найти диапазоны значений n, при которых на уровне значимости а, данные подтверждают мнение Ивана и диапазоны значений n, при которых на уровне\n",
    "значимости а, данные подтверждают мнение Петра.\n",
    "Замечание. Данные реальные и требуют предварительной обработки\n",
    "\n",
    "\n",
    "*Вариант 3:* ОМА и ДУ\n"
   ]
  },
  {
   "cell_type": "code",
   "execution_count": 2,
   "id": "4ec86430",
   "metadata": {},
   "outputs": [],
   "source": [
    "# Загружаем данные из файла Excel\n",
    "data = pd.read_excel(\"Data_8_1.xlsx\", names=['DU_itog', 'MA', 'OMA', 'AandG'])\n",
    "data = data.drop(index=0)  # Удаляем первую строку, если она не содержит данных\n",
    "\n",
    "# Извлекаем данные по дисциплинам ОМА и ДУ и приводим их к типу float\n",
    "scores_OMA = list(data['OMA'].dropna().astype(float))\n",
    "scores_DU = list(data['DU_itog'].dropna().astype(float))"
   ]
  },
  {
   "cell_type": "markdown",
   "id": "7757dc49",
   "metadata": {},
   "source": [
    "Будем следовать алгоритму: Пусть некоторое событие $А$ в серии из $n_1$ испытаний произошло $k_1$ раз, а в другой серии из $n_2$ испытаний произошло $k_2$ раза.  Найдем эти величины из данной нам выборки"
   ]
  },
  {
   "cell_type": "code",
   "execution_count": 3,
   "id": "5e5ffa54",
   "metadata": {},
   "outputs": [],
   "source": [
    "# Определяем количество наблюдений в каждой дисциплине\n",
    "num_OMA = np.size(scores_OMA) #n_1\n",
    "num_DU = np.size(scores_DU) #n_2\n",
    "total_count = num_OMA + num_DU #n\n",
    "\n",
    "# Инициализируем списки для хранения результатов\n",
    "success_counts_OMA = []\n",
    "success_counts_DU = []\n",
    "min_h_statistics = []"
   ]
  },
  {
   "cell_type": "markdown",
   "id": "ae5dae1c",
   "metadata": {},
   "source": [
    "Произведу проверку условий: \n",
    "\n",
    "1) Пусть соблюдены условия: сумма $(n_1 +n2)$ - «большая» и наименьшая из величин $\\frac {(k_1+k_2)n_1}{n1+n2}$, $\\frac {(k_1+k_2)n_2}{n1+n2}$, $\\frac {(n - k_1-k_2)n_1}{n1+n2}$, $\\frac {(n - k_1-k_2)n_2}{n1+n2}$ больше 5;\n",
    "\n",
    "2) Пусть соблюдены условия: $n_1 +n_2 >20$ и наименьшая из величин $\\frac {(k_1+k_2)n_1}{n1+n2}$, $\\frac {(k_1+k_2)n_2}{n1+n2}$, $\\frac {(n - k_1-k_2)n_1}{n1+n2}$, $\\frac {(n - k_1-k_2)n_2}{n1+n2}$ больше 3."
   ]
  },
  {
   "cell_type": "markdown",
   "id": "99a96056",
   "metadata": {},
   "source": [
    "От выполнения этих условий будет зависеть выбор статистики:\n",
    "\n",
    "1) $Z = \\frac{\\frac{k_1}{n_1}- \\frac{k_2}{n_2}}{\\sqrt{h(1-h)(\\frac{1}{n_1}+\\frac{1}{n_2})}}, h = \\frac{k_1+k_2}{n_1+n_2}$\n",
    "\n",
    "2) $Z = \\frac{n_1+n_2}{n_1 \\cdot n_2 \\cdot k_1 \\cdot k_2}$"
   ]
  },
  {
   "cell_type": "code",
   "execution_count": 4,
   "id": "00d9acf7",
   "metadata": {},
   "outputs": [],
   "source": [
    "# Перебираем значения от 1 до 0 с шагом 0.01\n",
    "for threshold in np.arange(1, 0, -0.01):\n",
    "    # Считаем количество студентов, получивших не менее 'threshold' баллов\n",
    "    count_OMA = sum(1 for score in scores_OMA if score >= threshold)\n",
    "    count_DU = sum(1 for score in scores_DU if score >= threshold)\n",
    "    \n",
    "    success_counts_OMA.append(count_OMA)\n",
    "    success_counts_DU.append(count_DU)\n",
    "    \n",
    "    # Рассчитываем минимальные статистики h\n",
    "    min_h_statistic = np.min([(count_OMA + count_DU) * num_OMA / (num_OMA + num_DU),\n",
    "                               (count_OMA + count_DU) * num_DU / (num_OMA + num_DU),\n",
    "                               (total_count - count_OMA - count_DU) * num_OMA / (num_OMA + num_DU),\n",
    "                               (total_count - count_OMA - count_DU) * num_DU / (num_OMA + num_DU)])\n",
    "    \n",
    "    min_h_statistics.append(min_h_statistic)\n",
    "# Массив для хранения индексов выбранных статистик\n",
    "selected_statistics = []\n",
    "\n",
    "# Заполняем массив по условиям выбора статистик\n",
    "for h in min_h_statistics:\n",
    "    if h < 3:\n",
    "        selected_statistics.append(0)  # Статистика незначимого различия\n",
    "    elif h < 5:\n",
    "        selected_statistics.append(2)  # Статистика сравнительного анализа\n",
    "    else:\n",
    "        selected_statistics.append(1)  # Статистика значимого различия\n",
    "\n",
    "# Массив для выборочных значений статистик\n",
    "z_scores = []\n",
    "\n",
    "# Вычисляем статистики z\n",
    "for i in range(len(min_h_statistics)):\n",
    "    if selected_statistics[i] == 1:\n",
    "        h_i = (success_counts_OMA[i] + success_counts_DU[i]) / total_count\n",
    "        z_i = (success_counts_OMA[i] / num_OMA - success_counts_DU[i] / num_DU) / \\\n",
    "               np.sqrt(h_i * (1 - h_i) * (1 / num_OMA + 1 / num_DU))\n",
    "        z_scores.append(z_i)\n",
    "    elif selected_statistics[i] == 2:\n",
    "        z_i = (num_OMA + num_DU) / (num_OMA * num_DU * success_counts_OMA[i] * success_counts_DU[i])\n",
    "        z_scores.append(z_i)\n",
    "    else:\n",
    "        z_scores.append(np.NaN)"
   ]
  },
  {
   "cell_type": "markdown",
   "id": "e7c63425",
   "metadata": {},
   "source": [
    "Далее найдем при каких значениях подтверждается чья гипотеза"
   ]
  },
  {
   "cell_type": "code",
   "execution_count": 5,
   "id": "b9ad1f4c",
   "metadata": {},
   "outputs": [
    {
     "name": "stdout",
     "output_type": "stream",
     "text": [
      "Гипотеза Ивана подтверждается при n, равных: [50, 49, 48, 47, 46, 45, 44, 43, 42, 41, 40, 39, 38, 37, 36, 35, 34, 33, 32, 31, 19]\n",
      "Гипотеза Петра подтверждается при n, равных: [95, 94, 93, 92, 91, 90, 89, 88, 87, 86, 85, 84, 83, 82, 81, 80, 79, 78, 77, 76, 75, 74, 73, 72, 71, 70, 69, 68, 67, 66, 65, 64, 63, 62, 61, 60, 59, 58, 57, 56, 55, 54, 53, 52, 51, 30, 29, 28, 27, 26, 25, 24, 23, 22, 21, 20, 18, 17, 16, 15, 14, 13, 12, 11, 10, 9, 8, 7, 6, 5, 4, 3]\n"
     ]
    }
   ],
   "source": [
    "# Массив p-значений\n",
    "p_values = []\n",
    "for i in range(len(selected_statistics)):\n",
    "    if selected_statistics[i] == 1:\n",
    "        p_value_i = 2 * np.min([sts.norm(0, 1).cdf(z_scores[i]), 1 - sts.norm(0, 1).cdf(z_scores[i])])\n",
    "        p_values.append(p_value_i)\n",
    "    elif selected_statistics[i] == 2:\n",
    "        p_value_i = 2 * np.min([sts.chi2(1).cdf(z_scores[i]), 1 - sts.chi2(1).cdf(z_scores[i])])\n",
    "        p_values.append(p_value_i)\n",
    "    else:\n",
    "        p_values.append(np.NaN)\n",
    "\n",
    "# Массив значений порога n (в данном случае это значения от 1 до 0 с шагом 0.01)\n",
    "thresholds = np.arange(1, 0, -0.01)\n",
    "\n",
    "# Массивы значений порога, при которых гипотеза Ивана и Петра принимаются\n",
    "accepted_n_Ivan = []  # Приемлемые n для гипотезы Ивана\n",
    "accepted_n_Petr = []  # Приемлемые n для гипотезы Петра\n",
    "\n",
    "# Заполняем массивы соответствующими значениями\n",
    "for i in range(len(selected_statistics)):\n",
    "    if p_values[i] > 0.1:  # Уровень значимости для гипотезы Ивана\n",
    "        accepted_n_Ivan.append(round(thresholds[i] * 100))\n",
    "    if p_values[i] <= 0.1:  # Уровень значимости для гипотезы Петра\n",
    "        accepted_n_Petr.append(round(thresholds[i] * 100))\n",
    "\n",
    "# Выводим результаты анализа\n",
    "print(f'Гипотеза Ивана подтверждается при n, равных: {accepted_n_Ivan}')\n",
    "print(f'Гипотеза Петра подтверждается при n, равных: {accepted_n_Petr}')"
   ]
  },
  {
   "cell_type": "markdown",
   "id": "19efd9ee",
   "metadata": {},
   "source": [
    "**Задание 2.** Сгенерируйте две выборки $(А и В)$ различных объемов из нормально распределенных генеральных совокупностей с параметрами $m_A, \\sigma_A$ и $m_B, \\sigma_B$ (возьмите значения $m_A$ и $m_B$ близкими, но не\n",
    "равными, а $\\sigma_A$ и $\\sigma_B$ выберите такими, чтобы близки (но не равны)\n",
    "были их квадраты). Проверьте гипотезу о равенстве дисперсий по критерию Фишера (см. п. 2 подраздела 8.2) на уровне значимости 0,05.\n",
    "\n",
    "Сформулируйте выводы.\n",
    "Если гипотеза подтвердится, то сгенерируйте две другие выборки\n",
    "(С и D), для которых гипотеза отклонится (при необходимости поварьируйте параметры, поэкспериментируйте, чтобы добиться заданного\n",
    "результата).\n",
    "Если гипотеза о равенстве дисперсий выборок А и В будет отклонена, то сгенерируйте две другие выборки (С' и D'), для которых\n",
    "гипотеза подтвердится (при необходимости поварьируйте параметры,\n",
    "поэкспериментируйте, чтобы добиться заданного результата)."
   ]
  },
  {
   "cell_type": "code",
   "execution_count": 6,
   "id": "a25e2660",
   "metadata": {},
   "outputs": [],
   "source": [
    "def lab8_2(ma, sa, mb, sb):\n",
    "    # Уровень значимости\n",
    "    alpha = 0.05\n",
    "    # Размеры выборок\n",
    "    na = 2500  # Размер первой выборки\n",
    "    nb = 5000  # Размер второй выборки\n",
    "\n",
    "    # Генерация выборок из нормального распределения\n",
    "    A = np.random.normal(ma, sa, na)  # Выборка A с параметрами (среднее, стандартное отклонение, размер)\n",
    "    B = np.random.normal(mb, sb, nb)  # Выборка B\n",
    "\n",
    "    # Вычисление выборочной дисперсии для каждой выборки (используем ddof=1 для несмещенной оценки)\n",
    "    Sa = np.var(A, ddof=1)  # Дисперсия выборки A\n",
    "    Sb = np.var(B, ddof=1)  # Дисперсия выборки B\n",
    "\n",
    "    # Вывод выборочной дисперсии\n",
    "    print('Sa = ', Sa)\n",
    "    print('Sb =', Sb)\n",
    "\n",
    "    # Вычисление статистики F\n",
    "    F = Sa / Sb\n",
    "    # Находим критические значения для F-распределения\n",
    "    D1 = sts.f(na - 1, nb - 1).ppf(alpha / 2)  # Нижняя граница критической области\n",
    "    D2 = sts.f(na - 1, nb - 1).ppf(1 - alpha / 2)  # Верхняя граница критической области\n",
    "\n",
    "    # Вывод результатов\n",
    "    print('Выборочное значение дисперсии:', F)\n",
    "    print('G:(-inf,', D1,')∪(',D2,',inf)')  # Вывод критической области\n",
    "\n",
    "    # Проверка гипотезы об равенстве дисперсий\n",
    "    if D1 < F < D2:\n",
    "        print('Гипотеза принимается')  # Если значение F попадает в интервал, гипотеза принимается\n",
    "    else:\n",
    "        print('Гипотеза отвергается')  # Если значение F вне интервала, гипотеза отвергается"
   ]
  },
  {
   "cell_type": "code",
   "execution_count": 7,
   "id": "7adc5e33",
   "metadata": {},
   "outputs": [
    {
     "name": "stdout",
     "output_type": "stream",
     "text": [
      "Sa =  11.155218416937998\n",
      "Sb = 9.509294131394507\n",
      "Выборочное значение дисперсии: 1.173085852935135\n",
      "G:(-inf, 0.9339720224562511 )∪( 1.069861540181964 ,inf)\n",
      "Гипотеза отвергается\n"
     ]
    }
   ],
   "source": [
    "lab8_2(1, 3.3, 1.1, 3.1)"
   ]
  },
  {
   "cell_type": "code",
   "execution_count": 8,
   "id": "d2628c48",
   "metadata": {},
   "outputs": [
    {
     "name": "stdout",
     "output_type": "stream",
     "text": [
      "Sa =  9.440990021246483\n",
      "Sb = 9.084769604537055\n",
      "Выборочное значение дисперсии: 1.0392107265473773\n",
      "G:(-inf, 0.9339720224562511 )∪( 1.069861540181964 ,inf)\n",
      "Гипотеза принимается\n"
     ]
    }
   ],
   "source": [
    "lab8_2(1, 3.05, 1.05, 3.005)"
   ]
  },
  {
   "cell_type": "markdown",
   "id": "bd3f8bbd",
   "metadata": {},
   "source": [
    "**Задание 3.** Для выполнения задания используйте пару выборок,\n",
    "смоделированных при выполнении задания 2, для которой гипотеза о\n",
    "равенстве дисперсий подтвердилась. Проверьте гипотезу о равенстве\n",
    "математических ожиданий. Укажите диапазон значений $\\alpha$, при которых гипотеза принимается."
   ]
  },
  {
   "cell_type": "code",
   "execution_count": 9,
   "id": "e9cf2772",
   "metadata": {},
   "outputs": [
    {
     "name": "stdout",
     "output_type": "stream",
     "text": [
      "Выборочное значение статистики = -1.0159773951070297\n",
      "p = 0.3096729327716854\n",
      "При alpha <=  0.3096729327716854 гипотеза принимается\n"
     ]
    }
   ],
   "source": [
    "na = 2500\n",
    "nb = 5000\n",
    "ma = 1\n",
    "sa = 3.05\n",
    "mb = 1.05\n",
    "sb = 3.005\n",
    "A = np.random.normal(ma, sa, na)\n",
    "B = np.random.normal (mb, sb, nb)\n",
    "\n",
    "st = sts.ttest_ind(A, B, equal_var=True, axis=0) [0]\n",
    "p = sts. ttest_ind(A, B, equal_var=True, axis=0) [1]\n",
    "print ( 'Выборочное значение статистики =', st)\n",
    "print ('p =', p)\n",
    "print ('При alpha <= ', p,'гипотеза принимается')"
   ]
  },
  {
   "cell_type": "markdown",
   "id": "23c16586",
   "metadata": {},
   "source": [
    "**Задание 4.** Для выполнения этого задания используйте пару выборок, смоделированных при выполнении задания 2, для которой гипотеза\n",
    "о равенстве дисперсий была отклонена. Проверьте гипотезу о равенстве\n",
    "математических ожиданий. Укажите диапазон значений а, при которых гипотеза принимается."
   ]
  },
  {
   "cell_type": "code",
   "execution_count": 10,
   "id": "bfd9f4ec",
   "metadata": {},
   "outputs": [
    {
     "name": "stdout",
     "output_type": "stream",
     "text": [
      "Выборочное значение статистики = -1.3511639562642164\n",
      "p = 0.17668368507802693\n",
      "При alpha <=  0.17668368507802693  гипотеза принимается\n"
     ]
    }
   ],
   "source": [
    "na = 2500\n",
    "nb = 5000\n",
    "ma = 1\n",
    "sa = 3.3\n",
    "mb = 1.1\n",
    "sb = 3.1\n",
    "A = np.random.normal(ma, sa, na)\n",
    "B = np.random.normal(mb, sb, nb)\n",
    "\n",
    "st = sts.ttest_ind(A, B, equal_var=True, axis=0) [0]\n",
    "p = sts. ttest_ind(A, B, equal_var=True, axis=0) [1]\n",
    "print ('Выборочное значение статистики =', st)\n",
    "print ('p =', p)\n",
    "print ('При alpha <= ', p, ' гипотеза принимается')"
   ]
  },
  {
   "cell_type": "code",
   "execution_count": null,
   "id": "722a3226",
   "metadata": {},
   "outputs": [],
   "source": []
  }
 ],
 "metadata": {
  "kernelspec": {
   "display_name": "usr",
   "language": "python",
   "name": "python3"
  },
  "language_info": {
   "codemirror_mode": {
    "name": "ipython",
    "version": 3
   },
   "file_extension": ".py",
   "mimetype": "text/x-python",
   "name": "python",
   "nbconvert_exporter": "python",
   "pygments_lexer": "ipython3",
   "version": "3.12.3"
  }
 },
 "nbformat": 4,
 "nbformat_minor": 5
}
