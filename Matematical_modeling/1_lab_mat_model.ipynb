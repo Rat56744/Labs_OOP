{
 "cells": [
  {
   "cell_type": "markdown",
   "id": "3f13d0d4",
   "metadata": {},
   "source": [
    "Размеры поля: 105х68  \n",
    "Мяч материальная точка\n",
    "размеры ворот:\n",
    "- длина 7.32\n",
    "- высота 2.44\n",
    "координаты центра (3.66,1.22) на поле: (24, 1.22)"
   ]
  },
  {
   "cell_type": "code",
   "execution_count": null,
   "id": "72878ee1",
   "metadata": {},
   "outputs": [],
   "source": [
    "import numpy as np\n",
    "\n",
    "x_0 = 0 # Начальные координаты\n",
    "y_0 = 0 # Начальные координаты\n",
    "alpha = 0 # Угол удара\n",
    "V = 0 # Начальная скорость"
   ]
  }
 ],
 "metadata": {
  "kernelspec": {
   "display_name": "Python 3",
   "language": "python",
   "name": "python3"
  },
  "language_info": {
   "codemirror_mode": {
    "name": "ipython",
    "version": 3
   },
   "file_extension": ".py",
   "mimetype": "text/x-python",
   "name": "python",
   "nbconvert_exporter": "python",
   "pygments_lexer": "ipython3",
   "version": "3.12.3"
  }
 },
 "nbformat": 4,
 "nbformat_minor": 5
}
